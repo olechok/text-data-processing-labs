{
 "cells": [
  {
   "metadata": {
    "ExecuteTime": {
     "end_time": "2025-04-17T06:26:54.473393Z",
     "start_time": "2025-04-17T06:26:53.640913Z"
    }
   },
   "cell_type": "code",
   "source": [
    "import nltk\n",
    "import re\n",
    "from lemmatizator import lemmatize\n",
    "from nltk.collocations import BigramCollocationFinder\n",
    "from nltk.collocations import BigramAssocMeasures\n",
    "from nltk.corpus import gutenberg"
   ],
   "id": "e35e5658af5678b5",
   "outputs": [],
   "execution_count": 1
  },
  {
   "metadata": {
    "ExecuteTime": {
     "end_time": "2025-04-17T06:26:54.479982Z",
     "start_time": "2025-04-17T06:26:54.476531Z"
    }
   },
   "cell_type": "code",
   "source": [
    "wpt = nltk.WordPunctTokenizer()\n",
    "stop_words = nltk.corpus.stopwords.words('english')"
   ],
   "id": "b818094ccb2c469b",
   "outputs": [],
   "execution_count": 2
  },
  {
   "metadata": {
    "ExecuteTime": {
     "end_time": "2025-04-17T06:26:54.597743Z",
     "start_time": "2025-04-17T06:26:54.594514Z"
    }
   },
   "cell_type": "code",
   "source": [
    "def preproc_doc(doc_series):\n",
    "    p_corpus = []\n",
    "    for doc in doc_series:\n",
    "        doc = re.sub(r'[^a-zA-Z\\s]', '', doc, re.I | re.A)\n",
    "        doc = doc.lower().strip()\n",
    "        tokens = wpt.tokenize(doc)\n",
    "        filtered_tokens = [token for token in tokens if token not in stop_words]\n",
    "        cleaned_text = ' '.join(filtered_tokens)\n",
    "        p_corpus.append(lemmatize(cleaned_text))\n",
    "    p_corpus = list(filter(None, p_corpus))\n",
    "    return p_corpus"
   ],
   "id": "e726cdb08261b6f6",
   "outputs": [],
   "execution_count": 3
  },
  {
   "metadata": {
    "ExecuteTime": {
     "end_time": "2025-04-17T06:27:03.082406Z",
     "start_time": "2025-04-17T06:26:54.602652Z"
    }
   },
   "cell_type": "code",
   "source": [
    "text = gutenberg.words('melville-moby_dick.txt')\n",
    "text = preproc_doc(text)"
   ],
   "id": "f66dc8a4329aa884",
   "outputs": [],
   "execution_count": 4
  },
  {
   "metadata": {
    "ExecuteTime": {
     "end_time": "2025-04-17T06:27:03.383031Z",
     "start_time": "2025-04-17T06:27:03.088437Z"
    }
   },
   "cell_type": "code",
   "source": [
    "bigram_measures = BigramAssocMeasures()\n",
    "finder = BigramCollocationFinder.from_words(text)\n",
    "\n",
    "print(\"Most frequent bigrams:\")\n",
    "finder.nbest(bigram_measures.raw_freq, 10)\n",
    "\n",
    "# print(\"\\nBigrams with the highest PMI:\")\n",
    "# print(finder.nbest(bigram_measures.pmi, 10))"
   ],
   "id": "4e2eb15b9fc535b8",
   "outputs": [
    {
     "name": "stdout",
     "output_type": "stream",
     "text": [
      "Most frequent bigrams:\n"
     ]
    },
    {
     "data": {
      "text/plain": [
       "[('sperm', 'whale'),\n",
       " ('white', 'whale'),\n",
       " ('mast', 'head'),\n",
       " ('moby', 'dick'),\n",
       " ('old', 'man'),\n",
       " ('captain', 'ahab'),\n",
       " ('right', 'whale'),\n",
       " ('whale', 'ship'),\n",
       " ('ye', 'see'),\n",
       " ('captain', 'peleg')]"
      ]
     },
     "execution_count": 5,
     "metadata": {},
     "output_type": "execute_result"
    }
   ],
   "execution_count": 5
  },
  {
   "metadata": {
    "ExecuteTime": {
     "end_time": "2025-04-17T06:27:03.513218Z",
     "start_time": "2025-04-17T06:27:03.511494Z"
    }
   },
   "cell_type": "code",
   "source": "",
   "id": "3e06bee8c287c094",
   "outputs": [],
   "execution_count": null
  }
 ],
 "metadata": {
  "kernelspec": {
   "display_name": "Python 3",
   "language": "python",
   "name": "python3"
  },
  "language_info": {
   "codemirror_mode": {
    "name": "ipython",
    "version": 2
   },
   "file_extension": ".py",
   "mimetype": "text/x-python",
   "name": "python",
   "nbconvert_exporter": "python",
   "pygments_lexer": "ipython2",
   "version": "2.7.6"
  }
 },
 "nbformat": 4,
 "nbformat_minor": 5
}
