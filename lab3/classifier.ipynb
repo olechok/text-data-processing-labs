{
 "cells": [
  {
   "metadata": {
    "ExecuteTime": {
     "end_time": "2025-04-03T08:07:52.333941Z",
     "start_time": "2025-04-03T08:07:52.327329Z"
    }
   },
   "cell_type": "code",
   "source": [
    "import pandas as pd\n",
    "import numpy as np\n",
    "from sklearn.model_selection import train_test_split, GridSearchCV\n",
    "from sklearn.feature_extraction.text import TfidfVectorizer\n",
    "from sklearn.ensemble import RandomForestClassifier\n",
    "from sklearn.linear_model import LogisticRegression\n",
    "from sklearn.metrics import accuracy_score\n",
    "from gensim.models import FastText\n",
    "from nltk.tokenize import word_tokenize\n",
    "import nltk\n",
    "import re\n",
    "from lemmatizator import lemmatize\n",
    "import matplotlib.pyplot as plt"
   ],
   "id": "496ad4d06d566575",
   "outputs": [],
   "execution_count": 202
  },
  {
   "metadata": {
    "ExecuteTime": {
     "end_time": "2025-04-03T08:07:52.344401Z",
     "start_time": "2025-04-03T08:07:52.339621Z"
    }
   },
   "cell_type": "code",
   "source": [
    "wpt = nltk.WordPunctTokenizer()\n",
    "stop_words = nltk.corpus.stopwords.words('english')"
   ],
   "id": "d34cd906b3c9b201",
   "outputs": [],
   "execution_count": 203
  },
  {
   "metadata": {
    "ExecuteTime": {
     "end_time": "2025-04-03T08:07:52.385858Z",
     "start_time": "2025-04-03T08:07:52.382570Z"
    }
   },
   "cell_type": "code",
   "source": [
    "def preproc_doc(doc_series):\n",
    "    p_corpus = []\n",
    "    for doc in doc_series:\n",
    "        doc = re.sub(r'[^a-zA-Z\\s]', '', doc, re.I | re.A)\n",
    "        doc = doc.lower().strip()\n",
    "        tokens = wpt.tokenize(doc)\n",
    "        filtered_tokens = [token for token in tokens if token not in stop_words]\n",
    "        cleaned_text = ' '.join(filtered_tokens)\n",
    "        p_corpus.append(lemmatize(cleaned_text))\n",
    "    return p_corpus"
   ],
   "id": "c493122be2f1ced4",
   "outputs": [],
   "execution_count": 204
  },
  {
   "metadata": {
    "ExecuteTime": {
     "end_time": "2025-04-03T08:08:07.259703Z",
     "start_time": "2025-04-03T08:07:52.418660Z"
    }
   },
   "cell_type": "code",
   "source": [
    "df = pd.read_csv(\"documents1.csv\")\n",
    "corpus = df[\"Text\"]\n",
    "labels = df[\"Label\"]\n",
    "corpus = preproc_doc(corpus)"
   ],
   "id": "e89ee28c842fd996",
   "outputs": [],
   "execution_count": 205
  },
  {
   "metadata": {
    "ExecuteTime": {
     "end_time": "2025-04-03T08:08:07.292816Z",
     "start_time": "2025-04-03T08:08:07.288444Z"
    }
   },
   "cell_type": "code",
   "source": "train_corpus, test_corpus, train_labels, test_labels = train_test_split(corpus, labels, test_size=0.2, random_state=42)",
   "id": "71eb72e92358816d",
   "outputs": [],
   "execution_count": 206
  },
  {
   "metadata": {
    "ExecuteTime": {
     "end_time": "2025-04-03T08:08:07.330494Z",
     "start_time": "2025-04-03T08:08:07.325339Z"
    }
   },
   "cell_type": "code",
   "source": "labels.value_counts()",
   "id": "374372396261aa0f",
   "outputs": [
    {
     "data": {
      "text/plain": [
       "Label\n",
       "1    255\n",
       "4    255\n",
       "0    208\n",
       "2    201\n",
       "3    193\n",
       "Name: count, dtype: int64"
      ]
     },
     "execution_count": 207,
     "metadata": {},
     "output_type": "execute_result"
    }
   ],
   "execution_count": 207
  },
  {
   "metadata": {
    "ExecuteTime": {
     "end_time": "2025-04-03T08:08:07.526165Z",
     "start_time": "2025-04-03T08:08:07.391917Z"
    }
   },
   "cell_type": "code",
   "source": [
    "# TF-IDF \n",
    "tfidf_vectorizer = TfidfVectorizer()\n",
    "corpus_train_tfidf = tfidf_vectorizer.fit_transform(train_corpus)\n",
    "corpus_test_tfidf = tfidf_vectorizer.transform(test_corpus)"
   ],
   "id": "41878c61c7353b9e",
   "outputs": [],
   "execution_count": 208
  },
  {
   "metadata": {
    "ExecuteTime": {
     "end_time": "2025-04-03T08:08:12.399383Z",
     "start_time": "2025-04-03T08:08:07.561496Z"
    }
   },
   "cell_type": "code",
   "source": [
    "# FastText\n",
    "train_sentences = [word_tokenize(text) for text in train_corpus]\n",
    "fasttext_model = FastText(sentences=train_sentences, vector_size=100, window=5, min_count=1, workers=4, sg=1)"
   ],
   "id": "6e9719a38eff7487",
   "outputs": [],
   "execution_count": 209
  },
  {
   "metadata": {
    "ExecuteTime": {
     "end_time": "2025-04-03T08:08:12.406694Z",
     "start_time": "2025-04-03T08:08:12.402912Z"
    }
   },
   "cell_type": "code",
   "source": [
    "def average_word_vectors(words, model, vocabulary, num_features):\n",
    "    feature_vector = np.zeros(num_features, dtype=np.float64)\n",
    "    nwords = 0\n",
    "    for word in words:\n",
    "        if word in vocabulary:\n",
    "            feature_vector += model.wv[word]\n",
    "            nwords += 1\n",
    "    return feature_vector / nwords if nwords > 0 else feature_vector\n",
    "\n",
    "def document_vectorizer(corpus, model, num_features):\n",
    "    vocabulary = set(model.wv.index_to_key)\n",
    "    return np.array([average_word_vectors(word_tokenize(doc), model, vocabulary, num_features) for doc in corpus])"
   ],
   "id": "34f78734dfd8b61",
   "outputs": [],
   "execution_count": 210
  },
  {
   "metadata": {
    "ExecuteTime": {
     "end_time": "2025-04-03T08:08:13.503103Z",
     "start_time": "2025-04-03T08:08:12.436775Z"
    }
   },
   "cell_type": "code",
   "source": [
    "corpus_train_fasttext = document_vectorizer(train_corpus, fasttext_model, 100)\n",
    "corpus_test_fasttext = document_vectorizer(test_corpus, fasttext_model, 100)"
   ],
   "id": "3ee83811b344ec18",
   "outputs": [],
   "execution_count": 211
  },
  {
   "metadata": {
    "ExecuteTime": {
     "end_time": "2025-04-03T08:08:13.536285Z",
     "start_time": "2025-04-03T08:08:13.533907Z"
    }
   },
   "cell_type": "code",
   "source": [
    "classifiers = {\n",
    "    \"Logistic Regression\": LogisticRegression(max_iter=1000),\n",
    "    \"Random Forest\": RandomForestClassifier(n_estimators=10, random_state=42)\n",
    "}"
   ],
   "id": "38e80acdd0c4decb",
   "outputs": [],
   "execution_count": 212
  },
  {
   "metadata": {
    "ExecuteTime": {
     "end_time": "2025-04-03T08:08:13.596021Z",
     "start_time": "2025-04-03T08:08:13.593083Z"
    }
   },
   "cell_type": "code",
   "source": [
    "# Hyperparameters for GridSearchCV\n",
    "param_grid = {\n",
    "    \"Logistic Regression\": {\"C\": [0.1, 1, 10]},\n",
    "    \"Random Forest\": {\"n_estimators\": [50, 100, 200]}\n",
    "}"
   ],
   "id": "d2519ed8525d8293",
   "outputs": [],
   "execution_count": 213
  },
  {
   "metadata": {
    "ExecuteTime": {
     "end_time": "2025-04-03T08:08:13.628984Z",
     "start_time": "2025-04-03T08:08:13.626554Z"
    }
   },
   "cell_type": "code",
   "source": "results = {}",
   "id": "46a1f863f30ab7fe",
   "outputs": [],
   "execution_count": 214
  },
  {
   "metadata": {
    "ExecuteTime": {
     "end_time": "2025-04-03T08:08:23.292093Z",
     "start_time": "2025-04-03T08:08:13.661158Z"
    }
   },
   "cell_type": "code",
   "source": [
    "for name, clf in classifiers.items():\n",
    "    features = {\n",
    "        \"TF-IDF\": (corpus_train_tfidf, corpus_test_tfidf),\n",
    "        \"FastText\": (corpus_train_fasttext, corpus_test_fasttext)\n",
    "    }\n",
    "    \n",
    "    acc_data = []\n",
    "    \n",
    "    for feature_name, (train_feat, test_feat) in features.items():\n",
    "        # With GridSearchCV\n",
    "        clf.fit(train_feat, train_labels)\n",
    "        label_pred = clf.predict(test_feat)\n",
    "        acc = accuracy_score(test_labels, label_pred)\n",
    "        results[f\"{name} + {feature_name}\"] = acc\n",
    "        \n",
    "        # Without GridSearchCV\n",
    "        grid_search = GridSearchCV(clf, param_grid[name], cv=3, scoring='accuracy')\n",
    "        grid_search.fit(train_feat, train_labels)\n",
    "        best_clf = grid_search.best_estimator_\n",
    "        label_pred_grid = best_clf.predict(test_feat)\n",
    "        acc_grid = accuracy_score(test_labels, label_pred_grid)\n",
    "        results[f\"{name} + {feature_name} + GridSearchCV\"] = acc_grid\n",
    "        \n",
    "        acc_data.append([name, feature_name, acc, acc_grid])\n",
    "    \n",
    "    df = pd.DataFrame(acc_data, columns=[\"Classifier\", \"Feature\", \"Accuracy\", \"Accuracy (GridSearchCV)\"])\n",
    "    print(df)\n",
    "    \n",
    "    df.plot(x=\"Feature\", y=[\"Accuracy\", \"Accuracy (GridSearchCV)\"], kind=\"bar\", title=name)\n",
    "    plt.ylabel(\"Accuracy\")\n",
    "    plt.xticks(rotation=0)\n",
    "    plt.legend([\"Without GSCV\", \"With GSCV\"])\n",
    "    plt.show()\n"
   ],
   "id": "346817233433f589",
   "outputs": [
    {
     "name": "stdout",
     "output_type": "stream",
     "text": [
      "            Classifier   Feature  Accuracy  Accuracy (GridSearchCV)\n",
      "0  Logistic Regression    TF-IDF  0.986547                 0.995516\n",
      "1  Logistic Regression  FastText  0.946188                 0.955157\n"
     ]
    },
    {
     "data": {
      "text/plain": [
       "<Figure size 640x480 with 1 Axes>"
      ],
      "image/png": "[encoded data removed]"
     },
     "metadata": {},
     "output_type": "display_data"
    },
    {
     "name": "stdout",
     "output_type": "stream",
     "text": [
      "      Classifier   Feature  Accuracy  Accuracy (GridSearchCV)\n",
      "0  Random Forest    TF-IDF  0.878924                 0.964126\n",
      "1  Random Forest  FastText  0.955157                 0.968610\n"
     ]
    },
    {
     "data": {
      "text/plain": [
       "<Figure size 640x480 with 1 Axes>"
      ],
      "image/png": "[encoded data removed]"
     },
     "metadata": {},
     "output_type": "display_data"
    }
   ],
   "execution_count": 215
  },
  {
   "metadata": {
    "ExecuteTime": {
     "end_time": "2025-04-03T08:08:23.334958Z",
     "start_time": "2025-04-03T08:08:23.330307Z"
    }
   },
   "cell_type": "code",
   "source": [
    "texts = [\n",
    "\"The foreign minister embarked on a crucial diplomatic mission today, traveling to the neighboring country to address escalating tensions along their shared border. This visit comes after weeks of heightened rhetoric and military build-up on both sides, raising concerns about a potential conflict in the region. The minister's agenda includes a series of high-level meetings with their counterpart and the head of state, where they will aim to de-escalate the situation through dialogue and negotiation. Key discussion points are expected to include border demarcation, the withdrawal of troops from sensitive areas, and the establishment of a joint monitoring mechanism. The international community is closely watching these developments, hoping for a peaceful resolution to the crisis that could have significant geopolitical implications.\",\n",
    "    \n",
    "\"The atmosphere at the stadium was electric as the two top-ranked teams clashed in the final of the prestigious international soccer tournament. Millions of fans around the globe tuned in to witness what was anticipated to be a closely contested match filled with skill and drama. The first half saw both sides create several scoring opportunities, but neither could break the deadlock, leading to a tense and tactical battle in midfield. The second half brought a flurry of action, with a controversial penalty decision sparking heated debate among players and spectators. Ultimately, it was a moment of individual brilliance from a star striker in the dying minutes of the game that sealed the victory for their team, triggering wild celebrations on the pitch and in the stands.\",\n",
    "    \n",
    "\"At a special presentation held this morning, the technology giant unveiled its newest smartphone, which, according to company representatives, is a true breakthrough in mobile technology. The device is equipped with a revolutionary processor that provides unprecedented speed and energy efficiency. Among the key features are an improved camera with artificial intelligence, an ultra-clear display with HDR support, as well as integrated next-generation security features. In addition, the smartphone boasts an elegant design and is made from high-quality materials. The novelty is expected to go on sale next month and will pose serious competition to other flagship models on the market.\",\n",
    "    \n",
    "\"Movie fans are eagerly awaiting the release of the highly anticipated film, which is scheduled to premiere next month. This picture, which combines elements of science fiction and adventure, tells a captivating story about time travel and dangerous missions. The film was directed by a renowned master of the genre, and the main roles were played by world-famous stars. Judging by the trailers and early reviews from critics, viewers can expect a visually stunning and emotionally charged cinematic journey. The film is expected to become one of the highest-grossing films of the year and receive numerous awards.\",\n",
    "    \n",
    "\"In its latest financial report, a large industrial company announced a significant increase in profits for the current quarter. According to the data presented, the company's net profit increased by 15% compared to the same period last year. The company's management attributes the positive trend to the successful launch of new products, the optimization of production processes, and expansion into new markets. This trend is expected to continue in the coming quarters, which will allow the company to strengthen its market position and increase investment in further development. Investors reacted positively to this news, which led to an increase in the company's stock price on the stock exchange.\"\n",
    "]"
   ],
   "id": "83693451de92b239",
   "outputs": [],
   "execution_count": 216
  },
  {
   "metadata": {
    "ExecuteTime": {
     "end_time": "2025-04-03T08:08:23.396896Z",
     "start_time": "2025-04-03T08:08:23.368736Z"
    }
   },
   "cell_type": "code",
   "source": "corpus_test_fasttext_for_text = document_vectorizer(preproc_doc(texts), fasttext_model, 100)",
   "id": "5cb78ab777a0f147",
   "outputs": [],
   "execution_count": 217
  },
  {
   "metadata": {
    "ExecuteTime": {
     "end_time": "2025-04-03T08:08:23.454787Z",
     "start_time": "2025-04-03T08:08:23.429204Z"
    }
   },
   "cell_type": "code",
   "source": [
    "preprocessed_texts = preproc_doc(texts)\n",
    "corpus_test_tfidf_for_text = tfidf_vectorizer.transform(preprocessed_texts)"
   ],
   "id": "119880e89e9a725e",
   "outputs": [],
   "execution_count": 218
  },
  {
   "metadata": {
    "ExecuteTime": {
     "end_time": "2025-04-03T08:08:23.539756Z",
     "start_time": "2025-04-03T08:08:23.487979Z"
    }
   },
   "cell_type": "code",
   "source": [
    "lg1 = LogisticRegression(max_iter=1000)\n",
    "lg1.fit(corpus_train_fasttext, train_labels)\n",
    "label_pred = lg1.predict(corpus_test_fasttext_for_text)\n",
    "label_pred"
   ],
   "id": "8bf84ec157906ad9",
   "outputs": [
    {
     "data": {
      "text/plain": [
       "array([0, 1, 2, 3, 4])"
      ]
     },
     "execution_count": 219,
     "metadata": {},
     "output_type": "execute_result"
    }
   ],
   "execution_count": 219
  },
  {
   "metadata": {
    "ExecuteTime": {
     "end_time": "2025-04-03T08:08:23.682298Z",
     "start_time": "2025-04-03T08:08:23.608841Z"
    }
   },
   "cell_type": "code",
   "source": [
    "lg2 = RandomForestClassifier(n_estimators=10, random_state=42)\n",
    "lg2.fit(corpus_train_fasttext, train_labels)\n",
    "label_pred = lg2.predict(corpus_test_fasttext_for_text)\n",
    "label_pred"
   ],
   "id": "b49de1f0d6ed77a1",
   "outputs": [
    {
     "data": {
      "text/plain": [
       "array([0, 1, 2, 3, 4])"
      ]
     },
     "execution_count": 220,
     "metadata": {},
     "output_type": "execute_result"
    }
   ],
   "execution_count": 220
  },
  {
   "metadata": {
    "ExecuteTime": {
     "end_time": "2025-04-03T08:08:24.086697Z",
     "start_time": "2025-04-03T08:08:23.755670Z"
    }
   },
   "cell_type": "code",
   "source": [
    "rfc1 = LogisticRegression(max_iter=1000)\n",
    "rfc1.fit(corpus_train_tfidf, train_labels)\n",
    "label_pred = rfc1.predict(corpus_test_tfidf_for_text)\n",
    "label_pred"
   ],
   "id": "4e73beffb054072d",
   "outputs": [
    {
     "data": {
      "text/plain": [
       "array([4, 1, 2, 3, 4])"
      ]
     },
     "execution_count": 221,
     "metadata": {},
     "output_type": "execute_result"
    }
   ],
   "execution_count": 221
  },
  {
   "metadata": {
    "ExecuteTime": {
     "end_time": "2025-04-03T08:08:24.217594Z",
     "start_time": "2025-04-03T08:08:24.166086Z"
    }
   },
   "cell_type": "code",
   "source": [
    "rfc2 = RandomForestClassifier(n_estimators=10, random_state=42)\n",
    "rfc2.fit(corpus_train_tfidf, train_labels)\n",
    "label_pred = rfc2.predict(corpus_test_tfidf_for_text)\n",
    "label_pred"
   ],
   "id": "6c63f954a8e065fc",
   "outputs": [
    {
     "data": {
      "text/plain": [
       "array([0, 1, 4, 3, 4])"
      ]
     },
     "execution_count": 222,
     "metadata": {},
     "output_type": "execute_result"
    }
   ],
   "execution_count": 222
  },
  {
   "metadata": {
    "ExecuteTime": {
     "end_time": "2025-04-03T08:08:24.878431Z",
     "start_time": "2025-04-03T08:08:24.323511Z"
    }
   },
   "cell_type": "code",
   "source": [
    "param_grid_lg = {'C': [0.001, 0.01, 0.1, 1, 10, 100]}\n",
    "grid_search_lg1 = GridSearchCV(LogisticRegression(max_iter=1000), param_grid_lg, cv=3, scoring='accuracy')\n",
    "grid_search_lg1.fit(corpus_train_fasttext, train_labels)\n",
    "best_lg1 = grid_search_lg1.best_estimator_\n",
    "label_pred_lg1_grid = best_lg1.predict(corpus_test_fasttext_for_text)\n",
    "\n",
    "print(\"The best hyperparameters for lg1 (FastText):\", grid_search_lg1.best_params_)\n",
    "label_pred_lg1_grid"
   ],
   "id": "d580e5a2c2ed9bee",
   "outputs": [
    {
     "name": "stdout",
     "output_type": "stream",
     "text": [
      "The best hyperparameters for lg1 (FastText): {'C': 100}\n"
     ]
    },
    {
     "data": {
      "text/plain": [
       "array([4, 1, 2, 3, 4])"
      ]
     },
     "execution_count": 223,
     "metadata": {},
     "output_type": "execute_result"
    }
   ],
   "execution_count": 223
  },
  {
   "metadata": {
    "ExecuteTime": {
     "end_time": "2025-04-03T08:08:46.920976Z",
     "start_time": "2025-04-03T08:08:24.954225Z"
    }
   },
   "cell_type": "code",
   "source": [
    "param_grid_rf = {'n_estimators': [50, 100, 200], 'max_depth': [None, 10, 20], 'min_samples_split': [2, 5, 10]}\n",
    "grid_search_lg2 = GridSearchCV(RandomForestClassifier(random_state=42), param_grid_rf, cv=3, scoring='accuracy')\n",
    "grid_search_lg2.fit(corpus_train_fasttext, train_labels)\n",
    "best_lg2 = grid_search_lg2.best_estimator_\n",
    "label_pred_lg2_grid = best_lg2.predict(corpus_test_fasttext_for_text)\n",
    "\n",
    "print(\"\\nThe best hyperparameters for lg2 (FastText):\", grid_search_lg2.best_params_)\n",
    "label_pred_lg2_grid"
   ],
   "id": "7408364d77f70e40",
   "outputs": [
    {
     "name": "stdout",
     "output_type": "stream",
     "text": [
      "\n",
      "The best hyperparameters for lg2 (FastText): {'max_depth': None, 'min_samples_split': 5, 'n_estimators': 50}\n"
     ]
    },
    {
     "data": {
      "text/plain": [
       "array([0, 1, 2, 3, 4])"
      ]
     },
     "execution_count": 224,
     "metadata": {},
     "output_type": "execute_result"
    }
   ],
   "execution_count": 224
  },
  {
   "metadata": {
    "ExecuteTime": {
     "end_time": "2025-04-03T08:08:49.998203Z",
     "start_time": "2025-04-03T08:08:46.950449Z"
    }
   },
   "cell_type": "code",
   "source": [
    "param_grid_rfc1 = {'C': [0.001, 0.01, 0.1, 1, 10, 100]}\n",
    "grid_search_rfc1 = GridSearchCV(LogisticRegression(max_iter=1000), param_grid_rfc1, cv=3, scoring='accuracy')\n",
    "grid_search_rfc1.fit(corpus_train_tfidf, train_labels)\n",
    "best_rfc1 = grid_search_rfc1.best_estimator_\n",
    "label_pred_rfc1_grid = best_rfc1.predict(corpus_test_tfidf_for_text)\n",
    "\n",
    "print(\"\\nThe best hyperparameters for rfc1 (TF-IDF):\", grid_search_rfc1.best_params_)\n",
    "label_pred_rfc1_grid"
   ],
   "id": "dd2de1da023fb774",
   "outputs": [
    {
     "name": "stdout",
     "output_type": "stream",
     "text": [
      "\n",
      "The best hyperparameters for rfc1 (TF-IDF): {'C': 100}\n"
     ]
    },
    {
     "data": {
      "text/plain": [
       "array([0, 1, 2, 3, 4])"
      ]
     },
     "execution_count": 225,
     "metadata": {},
     "output_type": "execute_result"
    }
   ],
   "execution_count": 225
  },
  {
   "metadata": {
    "ExecuteTime": {
     "end_time": "2025-04-03T08:09:14.627718Z",
     "start_time": "2025-04-03T08:08:50.151592Z"
    }
   },
   "cell_type": "code",
   "source": [
    "param_grid_rfc2 = {'n_estimators': [50, 100, 200], 'max_depth': [None, 10, 20], 'min_samples_split': [2, 5, 10]}\n",
    "grid_search_rfc2 = GridSearchCV(RandomForestClassifier(random_state=42), param_grid_rfc2, cv=3, scoring='accuracy')\n",
    "grid_search_rfc2.fit(corpus_train_tfidf, train_labels)\n",
    "best_rfc2 = grid_search_rfc2.best_estimator_\n",
    "label_pred_rfc2_grid = best_rfc2.predict(corpus_test_tfidf_for_text)\n",
    "\n",
    "print(\"\\nThe best hyperparameters for rfc2 (TF-IDF):\", grid_search_rfc2.best_params_)\n",
    "label_pred_rfc2_grid"
   ],
   "id": "e76e09d0d5fffd50",
   "outputs": [
    {
     "name": "stdout",
     "output_type": "stream",
     "text": [
      "\n",
      "The best hyperparameters for rfc2 (TF-IDF): {'max_depth': None, 'min_samples_split': 5, 'n_estimators': 200}\n"
     ]
    },
    {
     "data": {
      "text/plain": [
       "array([4, 1, 4, 3, 4])"
      ]
     },
     "execution_count": 226,
     "metadata": {},
     "output_type": "execute_result"
    }
   ],
   "execution_count": 226
  }
 ],
 "metadata": {
  "kernelspec": {
   "display_name": "Python 3",
   "language": "python",
   "name": "python3"
  },
  "language_info": {
   "codemirror_mode": {
    "name": "ipython",
    "version": 2
   },
   "file_extension": ".py",
   "mimetype": "text/x-python",
   "name": "python",
   "nbconvert_exporter": "python",
   "pygments_lexer": "ipython2",
   "version": "2.7.6"
  }
 },
 "nbformat": 4,
 "nbformat_minor": 5
}
