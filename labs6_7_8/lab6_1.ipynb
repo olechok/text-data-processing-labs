{
 "cells": [
  {
   "metadata": {},
   "cell_type": "markdown",
   "source": "Create several of your own examples in json format for recognizing a new type of entity (choose your own). Create a program that adds these examples to an existing spaCy model, training the model.",
   "id": "a1d9c5cbea9d5f41"
  },
  {
   "metadata": {
    "collapsed": true
   },
   "cell_type": "code",
   "source": [
    "import random\n",
    "import spacy\n",
    "from spacy.training import Example\n",
    "import json"
   ],
   "id": "initial_id",
   "outputs": [],
   "execution_count": null
  },
  {
   "metadata": {},
   "cell_type": "code",
   "source": "nlp = spacy.load(\"en_core_web_md\")",
   "id": "5197e3fe5bd1bf8a",
   "outputs": [],
   "execution_count": null
  },
  {
   "metadata": {},
   "cell_type": "code",
   "source": [
    "ner = nlp.get_pipe(\"ner\")\n",
    "ner.add_label(\"FLIGHT_NUMBER\")"
   ],
   "id": "34da0af0610a4539",
   "outputs": [],
   "execution_count": null
  },
  {
   "metadata": {},
   "cell_type": "code",
   "source": [
    "with open(\"fly.json\", \"r\") as f:\n",
    "    train_data = json.load(f)"
   ],
   "id": "c63e438248419880",
   "outputs": [],
   "execution_count": null
  },
  {
   "metadata": {},
   "cell_type": "code",
   "source": [
    "examples = []\n",
    "for item in train_data:\n",
    "    text = item[\"text\"]\n",
    "    entities = []\n",
    "    for entity in item[\"entities\"]:\n",
    "        entities.append((entity[\"start\"], entity[\"end\"], \"FLIGHT_NUMBER\"))\n",
    "    examples.append(Example.from_dict(nlp.make_doc(text), {\"entities\": entities}))"
   ],
   "id": "c604f6629e9d8f4c",
   "outputs": [],
   "execution_count": null
  },
  {
   "metadata": {},
   "cell_type": "code",
   "source": [
    "epochs = 20\n",
    "other_pipes = [pipe for pipe in nlp.pipe_names if pipe != \"ner\"]\n",
    "with nlp.disable_pipes(*other_pipes):\n",
    "    optimizer = nlp.create_optimizer()\n",
    "    for i in range(epochs):\n",
    "        random.shuffle(examples)\n",
    "        for example in examples:\n",
    "            nlp.update([example], sgd=optimizer)"
   ],
   "id": "e82c0b333211a063",
   "outputs": [],
   "execution_count": null
  },
  {
   "metadata": {},
   "cell_type": "code",
   "source": "nlp.to_disk(\"trained_flight_model\")",
   "id": "78b84d2df91a6888",
   "outputs": [],
   "execution_count": null
  },
  {
   "metadata": {
    "ExecuteTime": {
     "end_time": "2025-04-30T23:12:04.628802Z",
     "start_time": "2025-04-30T23:12:04.590808Z"
    }
   },
   "cell_type": "code",
   "source": [
    "test_texts = [\n",
    "    \"When should I board flight LX321?\",\n",
    "    \"Has IB2345 been cancelled?\",\n",
    "    \"When should I board flight LX321?\",\n",
    "    \"Has IB2345 been cancelled?\",\n",
    "]\n",
    "for text in test_texts:\n",
    "    doc = nlp(text)\n",
    "    print(f\"Text: {text}\")\n",
    "    print(\"Entities:\", [(ent.text, ent.label_) for ent in doc.ents])\n",
    "    print()"
   ],
   "id": "4e0601e17fcb02e7",
   "outputs": [
    {
     "name": "stdout",
     "output_type": "stream",
     "text": [
      "Text: When should I board flight LX321?\n",
      "Entities: [('LX321', 'FLIGHT_NUMBER')]\n",
      "\n",
      "Text: Has IB2345 been cancelled?\n",
      "Entities: [('IB2345', 'FLIGHT_NUMBER')]\n",
      "\n",
      "Text: When should I board flight LX321?\n",
      "Entities: [('LX321', 'FLIGHT_NUMBER')]\n",
      "\n",
      "Text: Has IB2345 been cancelled?\n",
      "Entities: [('IB2345', 'FLIGHT_NUMBER')]\n",
      "\n"
     ]
    }
   ],
   "execution_count": 9
  }
 ],
 "metadata": {
  "kernelspec": {
   "display_name": "Python 3",
   "language": "python",
   "name": "python3"
  },
  "language_info": {
   "codemirror_mode": {
    "name": "ipython",
    "version": 2
   },
   "file_extension": ".py",
   "mimetype": "text/x-python",
   "name": "python",
   "nbconvert_exporter": "python",
   "pygments_lexer": "ipython2",
   "version": "2.7.6"
  }
 },
 "nbformat": 4,
 "nbformat_minor": 5
}
