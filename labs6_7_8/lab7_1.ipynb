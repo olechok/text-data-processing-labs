{
 "cells": [
  {
   "metadata": {},
   "cell_type": "markdown",
   "source": [
    "Highlight departure points using the Matcher class.\n",
    "Highlight user statements where they ask for something to be changed\n",
    "(e.g., Find me something else.), using templates. Use the flights.json file."
   ],
   "id": "e3e40a81b4ea51f8"
  },
  {
   "metadata": {
    "ExecuteTime": {
     "end_time": "2025-04-30T23:20:25.474147Z",
     "start_time": "2025-04-30T23:20:24.264295Z"
    }
   },
   "cell_type": "code",
   "source": [
    "import json\n",
    "import spacy\n",
    "from spacy.matcher import Matcher\n",
    "import re"
   ],
   "id": "71847aa696528fc9",
   "outputs": [],
   "execution_count": 1
  },
  {
   "metadata": {
    "ExecuteTime": {
     "end_time": "2025-04-30T23:21:30.485523Z",
     "start_time": "2025-04-30T23:21:30.217661Z"
    }
   },
   "cell_type": "code",
   "source": "nlp = spacy.load(\"en_core_web_sm\")",
   "id": "d4f6d3e39fa9d2bf",
   "outputs": [],
   "execution_count": 6
  },
  {
   "metadata": {
    "ExecuteTime": {
     "end_time": "2025-04-30T23:21:31.391275Z",
     "start_time": "2025-04-30T23:21:31.367842Z"
    }
   },
   "cell_type": "code",
   "source": [
    "with open(\"flights.json\", \"r\") as f:\n",
    "    data = json.load(f)"
   ],
   "id": "496e11f935caaf26",
   "outputs": [],
   "execution_count": 7
  },
  {
   "metadata": {
    "ExecuteTime": {
     "end_time": "2025-04-30T23:21:33.402169Z",
     "start_time": "2025-04-30T23:21:33.398254Z"
    }
   },
   "cell_type": "code",
   "source": "matcher = Matcher(nlp.vocab)",
   "id": "77a49126f5b39d6f",
   "outputs": [],
   "execution_count": 8
  },
  {
   "metadata": {},
   "cell_type": "markdown",
   "source": "Highlight departure points using the Matcher class.",
   "id": "d6b872284ad2447d"
  },
  {
   "metadata": {
    "ExecuteTime": {
     "end_time": "2025-04-30T23:21:35.537473Z",
     "start_time": "2025-04-30T23:21:35.531854Z"
    }
   },
   "cell_type": "code",
   "source": [
    "departure_patterns = [\n",
    "    [{\"LOWER\": \"from\"}, {\"ENT_TYPE\": \"GPE\"}, {\"ENT_TYPE\": \"GPE\", \"OP\": \"?\"}, {\"ENT_TYPE\": \"GPE\", \"OP\": \"?\"}],\n",
    "    [{\"LOWER\": \"out\"}, {\"LOWER\": \"of\"}, {\"ENT_TYPE\": \"GPE\"}, {\"ENT_TYPE\": \"GPE\", \"OP\": \"?\"},\n",
    "     {\"ENT_TYPE\": \"GPE\", \"OP\": \"?\"}],\n",
    "    [{\"LOWER\": \"departing\"}, {\"ENT_TYPE\": \"GPE\"}, {\"ENT_TYPE\": \"GPE\", \"OP\": \"?\"}, {\"ENT_TYPE\": \"GPE\", \"OP\": \"?\"}],\n",
    "    [{\"LOWER\": \"leaving\"}, {\"ENT_TYPE\": \"GPE\"}, {\"ENT_TYPE\": \"GPE\", \"OP\": \"?\"}, {\"ENT_TYPE\": \"GPE\", \"OP\": \"?\"}],\n",
    "]"
   ],
   "id": "132a7e291545eb80",
   "outputs": [],
   "execution_count": 9
  },
  {
   "metadata": {
    "ExecuteTime": {
     "end_time": "2025-04-30T23:21:36.442100Z",
     "start_time": "2025-04-30T23:21:36.438611Z"
    }
   },
   "cell_type": "code",
   "source": [
    "matcher.add(\"PotentialDeparturePoint\", departure_patterns)\n",
    "\n",
    "potential_departure_points_with_utterances = []"
   ],
   "id": "53a03b59c04953aa",
   "outputs": [],
   "execution_count": 10
  },
  {
   "metadata": {
    "ExecuteTime": {
     "end_time": "2025-04-30T23:21:42.977853Z",
     "start_time": "2025-04-30T23:21:37.695185Z"
    }
   },
   "cell_type": "code",
   "source": [
    "for dialogue in data:\n",
    "    for turn in dialogue.get('turns', []):\n",
    "        utterance = turn.get('utterance', '')\n",
    "        doc = nlp(utterance)\n",
    "\n",
    "        with doc.retokenize() as retokenizer:\n",
    "            for ent in doc.ents:\n",
    "                if ent.label_ == \"GPE\":\n",
    "                    retokenizer.merge(ent)\n",
    "\n",
    "        matches = matcher(doc)\n",
    "        for match_id, start, end in matches:\n",
    "            string_id = nlp.vocab.strings[match_id]\n",
    "            span = doc[start:end]\n",
    "            if string_id == \"PotentialDeparturePoint\":\n",
    "                potential_departure_points_with_utterances.append((span.text, utterance))\n"
   ],
   "id": "3bbbde3501548311",
   "outputs": [],
   "execution_count": 11
  },
  {
   "metadata": {
    "ExecuteTime": {
     "end_time": "2025-04-30T23:21:49.103633Z",
     "start_time": "2025-04-30T23:21:49.097078Z"
    }
   },
   "cell_type": "code",
   "source": [
    "if potential_departure_points_with_utterances:\n",
    "    unique_matches = set(potential_departure_points_with_utterances)\n",
    "    for dp, utt in unique_matches:\n",
    "        cleaned_dp = dp\n",
    "        cleaned_dp = re.sub(r'^(from|out of|departing|leaving)\\s+', '', cleaned_dp, flags=re.IGNORECASE)\n",
    "        print(f\"- Point: \\\"{cleaned_dp}\\\" (from utterance: \\\"{utt}\\\")\")\n",
    "else:\n",
    "    print(\"No potential departure points identified.\")\n"
   ],
   "id": "541f6e52cea849dc",
   "outputs": [
    {
     "name": "stdout",
     "output_type": "stream",
     "text": [
      "- Point: \"San Francisco\" (from utterance: \"Please confirm that you want to leave next Tuesday on American Airlines from San Francisco and flying to Los Angeles. You need 1 ticket in Economy.\")\n",
      "- Point: \"Seattle\" (from utterance: \"There are 3 people in my group. I am leaving from Seattle, WA. I prefer Southwest Airlines.\")\n",
      "- Point: \"Mexico City\" (from utterance: \"Please confirm: Flight from Mexico City to Paris, American Airlines, Economy. Departure date is next Thursday. 1 passenger.\")\n",
      "- Point: \"San Francisco\" (from utterance: \"I would like to fly out of San Francisco.\")\n",
      "- Point: \"Los Angeles\" (from utterance: \"Look for a flight from Los Angeles to Portland, OR\")\n",
      "- Point: \"San Diego\" (from utterance: \"Okay, I have a flight from San Diego, going to Chicago today with Delta Airlines. It is for 1 passenger with Economy seating. Does that work for you?\")\n",
      "- Point: \"Seattle\" (from utterance: \"I prefer taking Alaska Airlines in Economy, and I am leaving from Seattle and am traveling to NYC.\")\n",
      "- Point: \"Seattle\" (from utterance: \"I will be flying out of Seattle.\")\n",
      "- Point: \"Phoenix\" (from utterance: \"I'm going to travel soon, and I need a ticket for a one way flight from Phoenix.\")\n",
      "- Point: \"Delhi\" (from utterance: \"I need a flight out of Delhi.\")\n",
      "- Point: \"Seattle\" (from utterance: \"I am leaving from Seattle.\")\n",
      "- Point: \"Atlanta\" (from utterance: \"Please confirm the following. One flight from Atlanta on March 14th to San Francisco. You will be traveling economy class via American Airlines for 1 person.\")\n",
      "- Point: \"Vancouver\" (from utterance: \"Can I just double check, you want to fly from Vancouver to Atlanta with Delta Airlines on March 11th. If that's correct I'll book 3 Economy class tickets.\")\n",
      "- Point: \"Phoenix\" (from utterance: \"I want to depart from Phoenix, AZ in Economy Class.\")\n",
      "- Point: \"San Diego\" (from utterance: \"I would like to confirm the following information: you would be flying from San Diego to Mexico City on Alaska Airlines. You leave today on Economy class. The flight is for 1 passenger.\")\n",
      "- Point: \"New York City\" (from utterance: \"I am planning to travel from New York City to LA.\")\n",
      "- Point: \"Phoenix\" (from utterance: \"I'm looking to fly out from Phoenix, AZ and go to ATL on Southwest Airlines, Economy seating.\")\n",
      "- Point: \"Washington\" (from utterance: \"Please verify the following information: A flight for 1 Economy seat departing from Washington via Delta Airlines on MArch 11th, headed to London.\")\n",
      "- Point: \"Kuala Lumpur\" (from utterance: \"I am traveling from Kuala Lumpur to Las Vegas.\")\n",
      "- Point: \"Kuala Lumpur\" (from utterance: \"Okay, you would like to depart from Kuala Lumpur the day after tomorrow. You are looking for a flight with Delta Airlines to San Francisco for 1 passenger in Economy. Is this correct?\")\n",
      "- Point: \"Philadelphia\" (from utterance: \"I'd fly from Philadelphia.\")\n",
      "- Point: \"Las Vegas\" (from utterance: \"I need a flight from Las Vegas\")\n",
      "- Point: \"Los Angeles\" (from utterance: \"I will need flights from Los Angeles. Can you find me something with Alaska Airlines?\")\n",
      "- Point: \"Vancouver\" (from utterance: \"I will be leaving Vancouver, BC on the 12th. I will be travelling with two other people. Either business or economy class is fine with Air Canada.\")\n",
      "- Point: \"NY\" (from utterance: \"I'd like to leave from NY on the 1st of March and fly Economy.\")\n",
      "- Point: \"Washington\" (from utterance: \"Please confirm the following details: The flight is from Washington and goes to London, the airlines is Southwest Airlines with a departure date of next Tuesday and the number of passengers is 1 with a seating class in Economy.\")\n",
      "- Point: \"Washington\" (from utterance: \"Please confirm 4 economy tickets for Delta Airlines flight next Monday from Washington to Los Angeles.\")\n",
      "- Point: \"Kuala Lumpur\" (from utterance: \"I want to leave from Kuala Lumpur on the 10th of this month. I want to travel American Airlines in economy seating.\")\n",
      "- Point: \"SF\" (from utterance: \"I will be departing from SF. My expected date of departure is March 3rd and I would like to travel in Southwest Airlines.\")\n",
      "- Point: \"Philadelphia\" (from utterance: \"Please confirm your ticket reservation for 1 passenger from Philadelphia to Chicago on United Airlines next Tuesday. The flight seating class for this flight is Economy.\")\n",
      "- Point: \"San Diego\" (from utterance: \"Please confirm the following: the flight is out of San Diego, goes to Paris, on Southwest Airlines and leaves next Friday. There's just 1 passenger and you want to fly in Economy.\")\n",
      "- Point: \"San Diego\" (from utterance: \"There will be 1 passenger on the flight from San Diego to Phoenix.The economy class seating on American Airlines will leave next Thursday.\")\n",
      "- Point: \"Atlanta\" (from utterance: \"Is this correct: You'd like 1 Economy ticket on Delta Airlines for a March 11th departure from Atlanta to San Francisco. Is this correct?\")\n",
      "- Point: \"San Diego\" (from utterance: \"Can you please confirm to me that you want a flight from San Diego to Las Vegas with the Alaska Airlines and with a departure date of March 10th in the Economy class for 1 passenger?\")\n",
      "- Point: \"Toronto\" (from utterance: \"Of course! Just to confirm, you want to fly from Toronto to San Francisco. You'll be booking 1 Economy ticket on an Air Canada flight that departs on March 11th. Does that sounds correct?\")\n",
      "- Point: \"Phoenix\" (from utterance: \"Please confirm the following information: 1 Delta Airlines Economy ticket departing on March 13th from Phoenix with a destination of Seattle.\")\n",
      "- Point: \"London\" (from utterance: \"I'm leaving London, England in a couple day's. I only have money for two more people. we will be heading to New York.\")\n",
      "- Point: \"Las Vegas\" (from utterance: \"OK so a flight from Las Vegas via American Airlines?\")\n",
      "- Point: \"Las Vegas\" (from utterance: \"I would be leaving from Las Vegas.\")\n",
      "- Point: \"Seattle\" (from utterance: \"I will be leaving from Seattle on the 6th. I prefer to use Southwest Airlines.\")\n",
      "- Point: \"Seattle\" (from utterance: \"Please confirm the following details: the flight is from Seattle. The flight goes to Toronto. The airlines is Southwest Airlines. The departure date is next Tuesday. The seating class is economy. The number of passengers is 3.\")\n",
      "- Point: \"Toronto\" (from utterance: \"I will be flying to Philly. I want to star my traveling by the 13th of March. Look for flights from Toronto, Ontario\")\n",
      "- Point: \"New York City\" (from utterance: \"I'm part of a group of 3 that, starting on the 9th of this month, will be traveling from New York City to Philly.\")\n",
      "- Point: \"San Fran\" (from utterance: \"Maybe, are there any other flights. I want Economy class tickets. Is there anything leaving from San Fran.\")\n",
      "- Point: \"Portland\" (from utterance: \"Confirming 4 economy tickets for next Friday from Portland to Los Angeles on Alaska Airlines.\")\n",
      "- Point: \"Seattle\" (from utterance: \"On which date do you plan to depart from Seattle?\")\n",
      "- Point: \"San Francisco\" (from utterance: \"I will be leaving from San Francisco on the 9th of this month.\")\n",
      "- Point: \"San Francisco\" (from utterance: \"So I can book a flight for 3 people in Economy class, going from San Francisco to New York with Alaska Airlines, departing next Friday. Is this okay?\")\n",
      "- Point: \"Vegas\" (from utterance: \"I am flying from Vegas to LAX.\")\n",
      "- Point: \"Seattle\" (from utterance: \"Please confirm the following: the flight is from Seattle to Las Vegas. The airline is Delta Airlines. The departure date will be next Friday. The seating is economy class and there is 1 passenger.\")\n",
      "- Point: \"Vancouver\" (from utterance: \"From Vancouver, BC.\")\n",
      "- Point: \"San Diego\" (from utterance: \"You would like to book 1 Economy seat on Delta Airlines from San Diego to San Francisco on March 12th, is this correct?\")\n",
      "- Point: \"Vancouver\" (from utterance: \"I will leave from Vancouver, BC. I like Air Canada.\")\n",
      "- Point: \"Las Vegas\" (from utterance: \"Flight from Las Vegas to Phoenix, with Delta Airlines; departure date March 11th, in Economy class, for 1 passenger. It's correct?\")\n",
      "- Point: \"Las Vegas\" (from utterance: \"I would like you to confirm the following details. Your flight is from Las Vegas to Sydney. Your airlines is United Airlines and you are departing day after tomorrow. The airline class is economy and total number of people travelling is 1.\")\n",
      "- Point: \"Paris\" (from utterance: \"I am planning to leave on 5th of this month from Paris.\")\n",
      "- Point: \"Atlanta\" (from utterance: \"Please confirm the following details: Booking a one way flight from Atlanta to London on Delta Airlines departing tomorrow. The seating class is Economy and this is for 1 passenger.\")\n",
      "- Point: \"Los Angeles\" (from utterance: \"Okay let me read this back to you-- 3 Southwest Airlines economy tickets from Los Angeles to New York on March 9th. Do you all wish to sit together?\")\n",
      "- Point: \"Vancouver\" (from utterance: \"Please confirm that you need 4 economy tickets for next Thursday via Delta Airlines from Vancouver to Washington?\")\n",
      "- Point: \"Vancouver\" (from utterance: \"Can I 3 tickets from Vancouver flying with Delta Airlines.\")\n",
      "- Point: \"Phoenix\" (from utterance: \"We are leaving from Phoenix and I would prefer to fly Premium Economy with American Airlines.\")\n",
      "- Point: \"San Diego\" (from utterance: \"You would like 1 Economy ticket on American Airlines from San Diego to San Francisco on March 12th, is that correct?\")\n",
      "- Point: \"Paris\" (from utterance: \"I'll be leaving from Paris on the 1st of this month.\")\n",
      "- Point: \"Atlanta\" (from utterance: \"I will be leaving from Atlanta and if possible I would prefer to fly with Delta Airlines.\")\n",
      "- Point: \"Phoenix\" (from utterance: \"I am leaving from Phoenix.\")\n",
      "- Point: \"Atlanta\" (from utterance: \"I'd like to depart from Atlanta, GA on the 11th of March to travel to San Francisco.\")\n",
      "- Point: \"Paris\" (from utterance: \"I'd like to fly Air France from Paris.\")\n",
      "- Point: \"Vegas\" (from utterance: \"Actually I prefer American Airlines, and to leave from Vegas\")\n",
      "- Point: \"Vancouver\" (from utterance: \"Confirming 4 economy tickets for today from Vancouver to San Diego via Delta Airlines\")\n",
      "- Point: \"Toronto\" (from utterance: \"I'll be flying out from Toronto, Ontario on the 13th of this month. I would prefer to fly United Airlines.\")\n",
      "- Point: \"Vancouver\" (from utterance: \"I have an Economy Delta Airlines flight leaving Vancouver for Las Vegas next Tuesday. Is 1 ticket enough?\")\n",
      "- Point: \"Seattle\" (from utterance: \"I want to book my flight for this Saturday from Seattle, WA. Any ticket class works for me.\")\n",
      "- Point: \"Kuala Lumpur\" (from utterance: \"I'm flying from Kuala Lumpur on the 4th of March. Delta Airlines would be best.\")\n",
      "- Point: \"Kuala Lumpur\" (from utterance: \"Please confirm that the Delta Airlines flight is from Kuala Lumpur and goes to Phoenix. Also confirm that the departure date will be next Friday and it's for 4 passengers in Economy.\")\n",
      "- Point: \"Vancouver\" (from utterance: \"Please book me a one way flight from Vancouver.\")\n",
      "- Point: \"LA\" (from utterance: \"I am leaving from LA on March 12th. I prefer to fly Southwest Airlines.\")\n",
      "- Point: \"Phoenix\" (from utterance: \"I'm gonna be travelling on March 6th, and I'll be leaving from Phoenix.\")\n",
      "- Point: \"London\" (from utterance: \"I'm looking for a flight from London to washington. Can you find me Economy Class tickets?\")\n",
      "- Point: \"New York\" (from utterance: \"Ok, so a flight from New York with economy class seating\")\n",
      "- Point: \"Seattle\" (from utterance: \"Please confirm the following details: the flight is from Seattle to Las Vegas. The airline is Delta Airlines and the date of the departure is next Wednesday. The seating is economy class and there is 1 passenger.\")\n",
      "- Point: \"Las Vegas\" (from utterance: \"on March 13th, 3 people are going to Phoenix from Las Vegas on an Economy flight with Southwest Airlines\")\n",
      "- Point: \"Washington\" (from utterance: \"I am leaving from Washington on Tuesday next week. I prefer Southwest Airlines.\")\n",
      "- Point: \"Portland\" (from utterance: \"I'm going to be travelling from Portland, OR. Oh, I also want to travel Economy.\")\n",
      "- Point: \"Los Angeles\" (from utterance: \"Please confirm the following details: The flight is departing from Los Angeles on March 12th and arriving in San Diego. You will be flying Southwest Airlines in an Economy seat. I have reserved 4 tickets.\")\n",
      "- Point: \"Los Angeles\" (from utterance: \"Please confirm: United Airlines flight from Los Angeles to Phoenix leaving on March 11th. 1 passenger in economy seating. Is this correct?\")\n",
      "- Point: \"London\" (from utterance: \"I will be leaving from London, UK.\")\n",
      "- Point: \"Portland\" (from utterance: \"Okay, so you will be leaving from Portland to Los Angeles on Southwest Airlines next Tuesday. And you want 1 seat in Economy, is that correct?\")\n",
      "- Point: \"Phoenix\" (from utterance: \"Ok, please confirm the flight is from Phoenix to Seattle, on American Airlines the day after tomorrow. It is for Economy class with 1 passenger.\")\n",
      "- Point: \"Toronto\" (from utterance: \"I want to leave on the 6th of this month, from Toronto. Delta Airlines would be good.\")\n",
      "- Point: \"Seattle\" (from utterance: \"I prefer United Airlines, and I'm departing from Seattle.\")\n",
      "- Point: \"Las Vegas\" (from utterance: \"I'd like a Premium Economy ticket from Las Vegas next Monday.\")\n",
      "- Point: \"Kuala Lumpur\" (from utterance: \"Please can you confirm these details: the flight is from Kuala Lumpur, going to Los Angeles. It will be on Delta Airlines, departing next Monday. There will be 1 passenger in Economy class.\")\n",
      "- Point: \"Sydney\" (from utterance: \"I want Delta Airlines. I'm departing from Sydney, Australia on the 11th of this month.\")\n",
      "- Point: \"Philadelphia\" (from utterance: \"I will be leaving from Philadelphia and would prefer to fly on United Airlines.\")\n",
      "- Point: \"New York\" (from utterance: \"Actually I am leaving from New York\")\n",
      "- Point: \"San Francisco\" (from utterance: \"So you need 1 Economy ticket for Delta Airlines next Friday from San Francisco to San Diego?\")\n",
      "- Point: \"London\" (from utterance: \"Please confirm the following details: Your flight will depart today from London, England and arrive in Chicago via Delta Airlines. The seating class will be Economy for a total of 2 passengers.\")\n",
      "- Point: \"Phoenix\" (from utterance: \"Please confirm the following information: flight departs from Phoenix and includes 1 passenger.\")\n",
      "- Point: \"Chicago\" (from utterance: \"I have found an Economy ticket for 1 passenger from Chicago to Paris on March 9th via Delta Airlines. Is this correct?\")\n",
      "- Point: \"Toronto\" (from utterance: \"I want to leave from Toronto, Ontario.\")\n",
      "- Point: \"London\" (from utterance: \"There will be two people in my group and we will be leaving from London, England.\")\n",
      "- Point: \"Vancouver\" (from utterance: \"Wonderful! Can you confirm the following details, please? Your flight is from Vancouver and it goes to Phoenix. The airlines are with Delta Airlines in Economy seating. The departure date is the day after tomorrow. The number of passengers is 2.\")\n",
      "- Point: \"San Diego\" (from utterance: \"I will be departing from San Diego to go to Las Vegas. I like the Alaska Airlines.\")\n",
      "- Point: \"San Diego\" (from utterance: \"Just to make sure: You want a flight from San Diego to Delhi next Wednesday. You will be flying in a group of 3 on United Airlines in the Economy class.\")\n",
      "- Point: \"New York\" (from utterance: \"Is the following correct? You are going on a flight from New York to Philadelphia via Delta Airlines. You leave on March 9th, are seated in the Economy class, and are part of a group of 3 passengers.\")\n",
      "- Point: \"San Diego\" (from utterance: \"I'm getting away from San Diego\")\n",
      "- Point: \"Paris\" (from utterance: \"Actually, I wasn't able to book a ticket. I think all the tickets out of Paris are booked that day. Sorry about that. Is there anything else I can help you with?\")\n",
      "- Point: \"SF\" (from utterance: \"I want to leave on March 5th from SF.\")\n",
      "- Point: \"Washington\" (from utterance: \"Can I just double check, you want to fly from Washington next Friday.\")\n",
      "- Point: \"LA\" (from utterance: \"I will be departing from LA\")\n",
      "- Point: \"Seattle\" (from utterance: \"I am flying to Phoenix, AZ. I want 1 ticket from Seattle, WA.\")\n",
      "- Point: \"Los Angeles\" (from utterance: \"Allow me to confirm the flight details with you. The flight will take off from Los Angeles and land at New York. The airlines is American Airlines. You will be departing day after tomorrow. The number of passengers travelling is 3 and the seating class is Economy\")\n",
      "- Point: \"Las Vegas\" (from utterance: \"Please confirm the following: You'll be leaving from Las Vegas and going to Atlanta.\")\n",
      "- Point: \"Paris\" (from utterance: \"So, you would like 1 Economy ticket for a flight from Paris to New York on Delta Airlines leaving today?\")\n",
      "- Point: \"New York\" (from utterance: \"Ok, I'll go ahead and book a flight from New York to Sydney with Delta Airlines on March 14th. Is 1 ticket in Economy class ok?\")\n",
      "- Point: \"Phoenix\" (from utterance: \"I would like to go from Phoenix, AZ in March 12th\")\n",
      "- Point: \"Vancouver\" (from utterance: \"From Vancouver on the 1st of this month\")\n",
      "- Point: \"New York\" (from utterance: \"Flight from New York to San Francisco, next friday with Southwest Airlines, seating class Economy for 2 people. Do you confirm?\")\n",
      "- Point: \"Toronto\" (from utterance: \"To verify: You want to go from Toronto to San Diego next Wednesday. You'd prefer Delta Airlines and you want 1 ticket in economy class.\")\n",
      "- Point: \"Seattle\" (from utterance: \"Tell me if I have these details right: the flight leaves from Seattle. The flight ends up in San Diego. The flight will be on United Airlines. The date it will be leaving is March 13th. The seat is in Economy. There will be 1 passenger.\")\n",
      "- Point: \"New York\" (from utterance: \"Sure. I found a flight from New York to Sydney with Alaska Airlines leaving the day after tomorrow. Is 1 ticket in Economy class ok?\")\n",
      "- Point: \"Las Vegas\" (from utterance: \"I'm looking for one way flights from Las Vegas.\")\n",
      "- Point: \"Portland\" (from utterance: \"Okay, let's confirm the details now. You want 1 Economy class ticket to travel from Portland to Seattle on next Friday by United Airlines.\")\n",
      "- Point: \"Los Angeles\" (from utterance: \"I'll be leaving Los Angeles on the 6th\")\n",
      "- Point: \"San Francisco\" (from utterance: \"I want a one way flight departing from San Francisco.\")\n",
      "- Point: \"Washington\" (from utterance: \"No I want to leave Friday next week from Washington.\")\n",
      "- Point: \"Washington\" (from utterance: \"I am visiting London, England, and am departing from Washington.\")\n",
      "- Point: \"Vancouver\" (from utterance: \"I am in a mood for holiday and want you to buy me a oneway flight ticket from Vancouver.\")\n",
      "- Point: \"Washington\" (from utterance: \"I'd like to leave next Thursday from Washington. I prefer American Airlines. Both business and economy are fine.\")\n",
      "- Point: \"Kuala Lumpur\" (from utterance: \"You would like to fly from Kuala Lumpur to Las Vegas on American Airlines. You would like to leave today. The ticket is Economy class for 1 passenger. Is that correct?\")\n",
      "- Point: \"Atlanta\" (from utterance: \"Find me something else. I want to fly with Southwest Airlines. Look for them from Atlanta.\")\n",
      "- Point: \"Washington\" (from utterance: \"I like to go Toronto, Canada. I wish to start my travel today. Please find any flights from Washington?\")\n",
      "- Point: \"Portland\" (from utterance: \"I'll come from Portland\")\n",
      "- Point: \"Kuala Lumpur\" (from utterance: \"Alright, I have a flight from Kuala Lumpur to New York, leaving March 10th. It's an Economy class ticket on American Airlines for 1 passenger.\")\n",
      "- Point: \"Atlanta\" (from utterance: \"I'll leave from Atlanta, GA and I want to fly Economy with Delta Airlines.\")\n",
      "- Point: \"Atlanta\" (from utterance: \"I am leaving on the 13th of March from Atlanta, GA. My destination is London, England.\")\n",
      "- Point: \"London\" (from utterance: \"Please confirm the following details: The flight is from London to Philadelphia. The airline is United Airlines. The departure date is today. The seating is economy and the number of passengers is 1.\")\n",
      "- Point: \"New York City\" (from utterance: \"Departing from New York City.\")\n",
      "- Point: \"Portland\" (from utterance: \"Great. Please confirm that you'd like to book 1 ticket from Portland to Washington via American Airlines next Wednesday in Economy class.\")\n",
      "- Point: \"Paris\" (from utterance: \"Not quite. I'm actually going to be leaving from Paris on that day. And I'll have friends with me, so I actually need three tickets.\")\n",
      "- Point: \"Atlanta\" (from utterance: \"Please confirm the following information: The flight departs from Atlanta and has a destination to London. The flight will depart on March 13th. The ticket is Delta Airlines Economy for 1.\")\n",
      "- Point: \"Seattle\" (from utterance: \"Please confirm the details for your flight. The flight is from Seattle to New York on Alaska Airlines leaving March 12th in Economy. The number of passengers is 1.\")\n",
      "- Point: \"Toronto\" (from utterance: \"Can you find Economy class tickets. I am looking for flights from Toronto, Ontario.\")\n",
      "- Point: \"San Francisco\" (from utterance: \"I would like you to please confirm the following details. You are departing from San Francisco and will be Toronto. Your airline is Southwest Airlines and you are departing day after tomorrow. Your seating class is Premium Economy and total number of passengers is 1.\")\n",
      "- Point: \"Toronto\" (from utterance: \"I found a flight from Toronto to Washington on United Airlines. The flight leaves on March 13th and it's an Economy class ticket for 1 passenger. Would you like me to make the reservation?\")\n",
      "- Point: \"Vegas\" (from utterance: \"Yes, I want you to loo for flights from Vegas.\")\n",
      "- Point: \"San Diego\" (from utterance: \"You would like to book 1 Economy Class seat on Delta Airlines from San Diego to London on March 12th, is this correct?\")\n",
      "- Point: \"Washington\" (from utterance: \"I would like economy class tickets for this Sunday. I would like a flight from Washington.\")\n",
      "- Point: \"Vancouver\" (from utterance: \"Help me verify these details. You are taking a flight from Vancouver to Las Vegas. You want to fly with Air Canada and the date of departure is next Monday. You will be flying Economy and the number of passengers will be 3.\")\n",
      "- Point: \"Sydney\" (from utterance: \"I am leaving Sydney and traveling to SD. I prefer Delta Airlines if possible.\")\n",
      "- Point: \"New York\" (from utterance: \"I'd be flying out of New York on the 14th of this month. I prefer Delta Airlines.\")\n",
      "- Point: \"Paris\" (from utterance: \"Okay! So you will be departing from Paris and need 3 tickets for your group. Did I get it right this time?\")\n",
      "- Point: \"San Francisco\" (from utterance: \"Can you confirm the following for me? Your Alaska Airlines flight for 1 passenger goes from San Francisco to Paris. It departs on March 9th, and is in the Economy seating class.\")\n",
      "- Point: \"Washington\" (from utterance: \"No I will be departing from Washington.\")\n",
      "- Point: \"LA\" (from utterance: \"Great, I need 3 tickets from LA to New York for the 9th.\")\n",
      "- Point: \"San Fran\" (from utterance: \"I'll depart from San Fran, in a group of three, and I need refundable tickets.\")\n",
      "- Point: \"Vancouver\" (from utterance: \"I'll leave from Vancouver, BC travelling to Washington on the 7th of March\")\n",
      "- Point: \"Seattle\" (from utterance: \"Please confirm the following information: The flight will depart from Seattle. The flight will arrive at Chicago. The airlines is Delta Airlines. The date of your flight is next Thursday. The seating class is Premium Economy. There is 1 person in your party. Is this correct?\")\n",
      "- Point: \"Las Vegas\" (from utterance: \"Okay, the flight will be 1 Premium Economy ticket on American Airlines, from Las Vegas to Sydney, leaving next Monday. Is this correct?\")\n",
      "- Point: \"Kuala Lumpur\" (from utterance: \"Please confirm: the flight is departing from Kuala Lumpur and traveling to Atlanta. You'll be flying on American Airlines, departing March 11th. You'll sit in Economy class. There is 1 passenger.\")\n",
      "- Point: \"Paris\" (from utterance: \"Please confirm to book Economy class ticket for 1 person in Air France flight from Paris to Seattle on next Tuesday.\")\n",
      "- Point: \"Atlanta\" (from utterance: \"Please look for flights from Atlanta to New Delhi. I want to depart the 6th of March, if possible.\")\n",
      "- Point: \"Seattle\" (from utterance: \"Please confirm the following details: the flight is from Seattle. The flight goes to Los Angeles. The airlines is Alaska Airlines. The departure date is March 10th. The seating class is economy for 1.\")\n",
      "- Point: \"Vegas\" (from utterance: \"I would like to find a one way flight. I am interested in flights from Vegas.\")\n",
      "- Point: \"Washington\" (from utterance: \"I am leaving from Washington and there will be four people.\")\n",
      "- Point: \"Sydney\" (from utterance: \"Please confirm: 1 passenger flying from Sydney to San Diego on Delta Airlines, March 12th. sitting in Economy class.\")\n",
      "- Point: \"Atlanta\" (from utterance: \"I am leaving from Atlanta and I want a flight with American Airlines. I plan to leave on the 9th.\")\n",
      "- Point: \"Phoenix\" (from utterance: \"The flight is from Phoenix and go to Paris whit American Airlines on March 12th in class Premium Economy for 1 person\")\n",
      "- Point: \"Vancouver\" (from utterance: \"I'm going to be leaving Vancouver for a while to head to Vegas for my trip.\")\n",
      "- Point: \"New York City\" (from utterance: \"I want to go to San Fran out of New York City.\")\n",
      "- Point: \"San Francisco\" (from utterance: \"Perfect can I just double check, you would like to fly from San Francisco to London with Alaska Airlines on March 12th. If that's right I can book 1 Economy ticket for you.\")\n",
      "- Point: \"Vancouver\" (from utterance: \"Please confirm the following flight information: Air Canada flight leaving on March 12th from Vancouver to Phoenix for 2 passengers in Economy class.\")\n",
      "- Point: \"New York\" (from utterance: \"I'll be leaving from New York and flying to Washington. I would prefer to fly with united Airlines.\")\n",
      "- Point: \"Chicago\" (from utterance: \"Please confirm 1 Economy class flight ticket to New York for tomorrow. Leaving from Chicago. The airline is American Airlines.\")\n",
      "- Point: \"Philadelphia\" (from utterance: \"From Philadelphia to Nairobi. I leave next Tuesday.\")\n",
      "- Point: \"Toronto\" (from utterance: \"I;m flying to Chicago. Departing from Toronto, Ontario.\")\n",
      "- Point: \"Seattle\" (from utterance: \"Okay, the flight is from Seattle for 1 person on Economy with United Airlines, departing next Thursday to Atlanta. Is this correct?\")\n",
      "- Point: \"San Francisco\" (from utterance: \"I'm going from San Francisco to San Diego.\")\n",
      "- Point: \"SF\" (from utterance: \"We have two people in our group. We are leaving from SF, and on the 13th of this month.\")\n",
      "- Point: \"Toronto\" (from utterance: \"I'll be departing from Toronto, Ontario. I need to leave on March 11th.\")\n",
      "- Point: \"San Francisco\" (from utterance: \"Please confirm these details: you are flying from San Francisco, and going to Sydney. The airlines is American Airlines, and you're departing on March 13th. You're going to be flying Economy, and there are 2 passengers.\")\n",
      "- Point: \"Atlanta\" (from utterance: \"Please confirm the following information: The flight will depart from Atlanta. The flight will depart to San Francisco. The airlines is American airlines. The departure date is March 9th. The seating class is Economy. There is 1 passenger in your party.\")\n",
      "- Point: \"New York\" (from utterance: \"I have 2 Economy tickets on Southwest Airlines from New York to San Francisco leaving tomorrow. Is that right?\")\n",
      "- Point: \"Nairobi\" (from utterance: \"No No No I have my travel schedule mixed up. I am leaving from Nairobi not LA.\")\n",
      "- Point: \"New York\" (from utterance: \"Please confirm the booking details - You have booked in Delta Airlines in Economy class for 2 passengers that would fly from New York to Los Angeles and the departure date will be on March 13th.\")\n",
      "- Point: \"Washington\" (from utterance: \"We found a flight going from Washington to Philadelphia on next Thursday. You will be flying with American Airlines and the seating class is Economy. The total number of passengers on the flight is 1. Would you like to confirm this purchase?\")\n",
      "- Point: \"SF\" (from utterance: \"I need three tickets on Monday next week out of SF.\")\n"
     ]
    }
   ],
   "execution_count": 12
  },
  {
   "metadata": {},
   "cell_type": "markdown",
   "source": "Highlight a user's statement where they ask for something to be changed",
   "id": "6ce325a377a5d6a8"
  },
  {
   "metadata": {
    "ExecuteTime": {
     "end_time": "2025-04-30T23:22:54.400720Z",
     "start_time": "2025-04-30T23:22:54.395813Z"
    }
   },
   "cell_type": "code",
   "source": [
    "change_patterns = [\n",
    "    [{\"LOWER\": \"find\"}, {\"LOWER\": \"me\"}, {\"LOWER\": \"something\"}, {\"LOWER\": \"else\"}],\n",
    "    [{\"LOWER\": \"find\"}, {\"LOWER\": \"me\"}, {\"LOWER\": \"something\"}, {\"LOWER\": \"different\"}],\n",
    "    [{\"LOWER\": \"another\"}],\n",
    "    [{\"LOWER\": \"different\"}],\n",
    "    [{\"LOWER\": \"show\"}, {\"LOWER\": \"me\"}, {\"LOWER\": \"other\"}, {\"LOWER\": \"flights\"}]\n",
    "]"
   ],
   "id": "ef8b8faf86d6a71c",
   "outputs": [],
   "execution_count": 13
  },
  {
   "metadata": {
    "ExecuteTime": {
     "end_time": "2025-04-30T23:22:56.089247Z",
     "start_time": "2025-04-30T23:22:56.083924Z"
    }
   },
   "cell_type": "code",
   "source": [
    "matcher.add(\"ChangeRequest\", change_patterns)\n",
    "\n",
    "change_requests = set()"
   ],
   "id": "419ed5f082e07cd5",
   "outputs": [],
   "execution_count": 14
  },
  {
   "metadata": {
    "ExecuteTime": {
     "end_time": "2025-04-30T23:23:00.056934Z",
     "start_time": "2025-04-30T23:22:57.549421Z"
    }
   },
   "cell_type": "code",
   "source": [
    "for dialogue in data:\n",
    "    for turn in dialogue.get('turns', []):\n",
    "        if turn.get('speaker') == 'USER':\n",
    "            utterance = turn.get('utterance', '')\n",
    "            doc = nlp(utterance)\n",
    "\n",
    "            matches = matcher(doc)\n",
    "            for match_id, start, end in matches:\n",
    "                string_id = nlp.vocab.strings[match_id]\n",
    "                if string_id == \"ChangeRequest\":\n",
    "                    change_requests.add(utterance)"
   ],
   "id": "c293c78c9cd07d10",
   "outputs": [],
   "execution_count": 15
  },
  {
   "metadata": {
    "ExecuteTime": {
     "end_time": "2025-04-30T23:23:02.320857Z",
     "start_time": "2025-04-30T23:23:02.315859Z"
    }
   },
   "cell_type": "code",
   "source": [
    "print(\"\\nIdentified Change Requests:\")\n",
    "if change_requests:\n",
    "    for cr in change_requests:\n",
    "        print(f\"- {cr}\")\n",
    "else:\n",
    "    print(\"No change requests identified from utterance text.\")"
   ],
   "id": "81f15690b60a1ee1",
   "outputs": [
    {
     "name": "stdout",
     "output_type": "stream",
     "text": [
      "\n",
      "Identified Change Requests:\n",
      "- Find me something else. I want to fly with Southwest Airlines. Look for them from Atlanta.\n",
      "- No, please find another flight.\n",
      "- A different airline please, in Premium Economy.\n",
      "- Can you find me something else?\n",
      "- Please look for another flight.\n",
      "- Find another ticket.\n",
      "- Please show me other flights.\n",
      "- Try to find me something different. I would like 1 ticket with Southwest Airlines.\n",
      "- Find me something else, Delta Airlines instead, economy tickets.\n",
      "- Find me something else with United Airlines.\n",
      "- Find me something else.\n"
     ]
    }
   ],
   "execution_count": 16
  }
 ],
 "metadata": {
  "kernelspec": {
   "display_name": "Python 3",
   "language": "python",
   "name": "python3"
  },
  "language_info": {
   "codemirror_mode": {
    "name": "ipython",
    "version": 2
   },
   "file_extension": ".py",
   "mimetype": "text/x-python",
   "name": "python",
   "nbconvert_exporter": "python",
   "pygments_lexer": "ipython2",
   "version": "2.7.6"
  }
 },
 "nbformat": 4,
 "nbformat_minor": 5
}
