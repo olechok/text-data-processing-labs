{
 "cells": [
  {
   "metadata": {},
   "cell_type": "markdown",
   "source": "Apply the TextCategorizer component to determine intent.",
   "id": "96f3831bb9e0aedc"
  },
  {
   "metadata": {
    "ExecuteTime": {
     "end_time": "2025-04-26T23:43:20.095712Z",
     "start_time": "2025-04-26T23:43:20.089608Z"
    }
   },
   "cell_type": "code",
   "outputs": [],
   "execution_count": 33,
   "source": [
    "import spacy\n",
    "import random\n",
    "from spacy.training import Example\n",
    "from spacy.pipeline.textcat_multilabel import DEFAULT_MULTI_TEXTCAT_MODEL"
   ],
   "id": "8fdc32ac121b6089"
  },
  {
   "metadata": {
    "ExecuteTime": {
     "end_time": "2025-04-26T23:43:20.195400Z",
     "start_time": "2025-04-26T23:43:20.104495Z"
    }
   },
   "cell_type": "code",
   "source": "nlp = spacy.blank(\"en\")",
   "id": "eefc3a40fa490ddc",
   "outputs": [],
   "execution_count": 34
  },
  {
   "metadata": {
    "ExecuteTime": {
     "end_time": "2025-04-26T23:43:20.213278Z",
     "start_time": "2025-04-26T23:43:20.201046Z"
    }
   },
   "cell_type": "code",
   "source": [
    "config = {\n",
    "    \"model\": DEFAULT_MULTI_TEXTCAT_MODEL,\n",
    "    \"threshold\": 0.5 \n",
    "}\n",
    "textcat = nlp.add_pipe(\"textcat_multilabel\", last=True, config=config)"
   ],
   "id": "6f332bd822a304d4",
   "outputs": [],
   "execution_count": 35
  },
  {
   "metadata": {
    "ExecuteTime": {
     "end_time": "2025-04-26T23:43:20.221737Z",
     "start_time": "2025-04-26T23:43:20.218635Z"
    }
   },
   "cell_type": "code",
   "source": [
    "train_data = [\n",
    "    (\"Hello! I am looking to travel with Delta airlines. Can you help me find a oneway ticket?\", {\"cats\": {\"SearchOnewayFlight\": True, \"ReserveOnewayFlight\": False, \"NONE\": False}}),\n",
    "    (\"Search for flights from New York to Paris one way.\", {\"cats\": {\"SearchOnewayFlight\": True, \"ReserveOnewayFlight\": False, \"NONE\": False}}),\n",
    "    (\"Look up one-way flights next week.\", {\"cats\": {\"SearchOnewayFlight\": True, \"ReserveOnewayFlight\": False, \"NONE\": False}}),\n",
    "    (\"I want to book a ticket to Rome.\", {\"cats\": {\"SearchOnewayFlight\": False, \"ReserveOnewayFlight\": True, \"NONE\": False}}),\n",
    "    (\"Could you help me purchase a one-way flight ticket?\", {\"cats\": {\"SearchOnewayFlight\": False, \"ReserveOnewayFlight\": True, \"NONE\": False}}),\n",
    "    (\"Book a single flight to Berlin.\", {\"cats\": {\"SearchOnewayFlight\": False, \"ReserveOnewayFlight\": True, \"NONE\": False}}),\n",
    "    (\"Hello.\", {\"cats\": {\"SearchOnewayFlight\": False, \"ReserveOnewayFlight\": False, \"NONE\": True}}),\n",
    "    (\"Nope. Thanks for your assitance.\", {\"cats\": {\"SearchOnewayFlight\": False, \"ReserveOnewayFlight\": False, \"NONE\": True}}),\n",
    "    (\"What's your name?\", {\"cats\": {\"SearchOnewayFlight\": False, \"ReserveOnewayFlight\": False, \"NONE\": True}}),\n",
    "    (\"Find flights.\", {\"cats\": {\"SearchOnewayFlight\": True, \"ReserveOnewayFlight\": False, \"NONE\": False}}),\n",
    "    (\"Book a flight.\", {\"cats\": {\"SearchOnewayFlight\": False, \"ReserveOnewayFlight\": True, \"NONE\": False}}),\n",
    "]       "
   ],
   "id": "da6c2fd36f76d69f",
   "outputs": [],
   "execution_count": 36
  },
  {
   "metadata": {
    "ExecuteTime": {
     "end_time": "2025-04-26T23:43:20.231903Z",
     "start_time": "2025-04-26T23:43:20.228918Z"
    }
   },
   "cell_type": "code",
   "source": [
    "textcat.add_label(\"SearchOnewayFlight\")\n",
    "textcat.add_label(\"ReserveOnewayFlight\")\n",
    "textcat.add_label(\"NONE\")"
   ],
   "id": "6e94c2cc5d0aa966",
   "outputs": [
    {
     "data": {
      "text/plain": [
       "1"
      ]
     },
     "execution_count": 37,
     "metadata": {},
     "output_type": "execute_result"
    }
   ],
   "execution_count": 37
  },
  {
   "metadata": {
    "ExecuteTime": {
     "end_time": "2025-04-26T23:43:20.307311Z",
     "start_time": "2025-04-26T23:43:20.305511Z"
    }
   },
   "cell_type": "code",
   "source": "epochs=20",
   "id": "64ff503f341d540",
   "outputs": [],
   "execution_count": 38
  },
  {
   "metadata": {
    "ExecuteTime": {
     "end_time": "2025-04-26T23:43:21.996357Z",
     "start_time": "2025-04-26T23:43:20.315029Z"
    }
   },
   "cell_type": "code",
   "source": [
    "optimizer = nlp.initialize()\n",
    "\n",
    "for epoch in range(epochs):\n",
    "    random.shuffle(train_data)\n",
    "    losses = {}\n",
    "    for text, label in train_data:\n",
    "        doc = nlp.make_doc(text)\n",
    "        example = spacy.training.Example.from_dict(doc, label)\n",
    "        nlp.update([example], losses=losses)\n",
    "    print(f\"Losses at epoch {epoch}: {losses}\") "
   ],
   "id": "32e4cf5407c2b978",
   "outputs": [
    {
     "name": "stdout",
     "output_type": "stream",
     "text": [
      "Losses at epoch 0: {'textcat_multilabel': 4.122530398191884}\n",
      "Losses at epoch 1: {'textcat_multilabel': 0.4465043078525923}\n",
      "Losses at epoch 2: {'textcat_multilabel': 0.05993088463969798}\n",
      "Losses at epoch 3: {'textcat_multilabel': 0.12722350259355153}\n",
      "Losses at epoch 4: {'textcat_multilabel': 0.0016679297642667734}\n",
      "Losses at epoch 5: {'textcat_multilabel': 0.0010829951697957085}\n",
      "Losses at epoch 6: {'textcat_multilabel': 0.0008366400056303291}\n",
      "Losses at epoch 7: {'textcat_multilabel': 0.0006222468234398093}\n",
      "Losses at epoch 8: {'textcat_multilabel': 0.00047859246575399084}\n",
      "Losses at epoch 9: {'textcat_multilabel': 0.0004082298288210495}\n",
      "Losses at epoch 10: {'textcat_multilabel': 0.0003318681322923567}\n",
      "Losses at epoch 11: {'textcat_multilabel': 0.0002908893578705829}\n",
      "Losses at epoch 12: {'textcat_multilabel': 0.0002610101327036318}\n",
      "Losses at epoch 13: {'textcat_multilabel': 0.00023364008231396838}\n",
      "Losses at epoch 14: {'textcat_multilabel': 0.00021604773448302694}\n",
      "Losses at epoch 15: {'textcat_multilabel': 0.00019875274406899734}\n",
      "Losses at epoch 16: {'textcat_multilabel': 0.00018273560911552522}\n",
      "Losses at epoch 17: {'textcat_multilabel': 0.0001681110164497568}\n",
      "Losses at epoch 18: {'textcat_multilabel': 0.00015612940555342902}\n",
      "Losses at epoch 19: {'textcat_multilabel': 0.0001460046284762484}\n"
     ]
    }
   ],
   "execution_count": 39
  },
  {
   "metadata": {
    "ExecuteTime": {
     "end_time": "2025-04-26T23:43:22.016634Z",
     "start_time": "2025-04-26T23:43:22.004160Z"
    }
   },
   "cell_type": "code",
   "source": [
    "test_texts = [\n",
    "    \"I'm looking for one way flights from Las Vegas.\",\n",
    "    \"I want to buy a one-way flight ticket, can you help?\",\n",
    "    \"Tell me about your services.\",\n",
    "    \"Search for flights to New York.\",\n",
    "    \"Book me a one-way flight now.\",\n",
    "    \"Good morning. Can you help me?\",\n",
    "    \"I'm looking for a flights next Wednesday for Premium Economy.\",\n",
    "    \"I want Delta Airlines. I'm departing from Sydney, Australia on the 11th of this month.\",\n",
    "    \"Thanks for your help.\",\n",
    "]\n",
    "\n",
    "for text in test_texts:\n",
    "    doc = nlp(text)\n",
    "    print(f\"\\nText: {text}\")\n",
    "    print(\"Predicted categories:\")\n",
    "    sorted_cats = sorted(doc.cats.items(), key=lambda item: item[1], reverse=True)\n",
    "    for category, score in sorted_cats:\n",
    "        print(f\"- {category}: {score:.4f}\")"
   ],
   "id": "793729b94fa25c09",
   "outputs": [
    {
     "name": "stdout",
     "output_type": "stream",
     "text": [
      "\n",
      "Text: I'm looking for one way flights from Las Vegas.\n",
      "Predicted categories:\n",
      "- SearchOnewayFlight: 0.9788\n",
      "- NONE: 0.0322\n",
      "- ReserveOnewayFlight: 0.0069\n",
      "\n",
      "Text: I want to buy a one-way flight ticket, can you help?\n",
      "Predicted categories:\n",
      "- ReserveOnewayFlight: 0.9708\n",
      "- SearchOnewayFlight: 0.0160\n",
      "- NONE: 0.0036\n",
      "\n",
      "Text: Tell me about your services.\n",
      "Predicted categories:\n",
      "- NONE: 0.8172\n",
      "- SearchOnewayFlight: 0.7029\n",
      "- ReserveOnewayFlight: 0.1364\n",
      "\n",
      "Text: Search for flights to New York.\n",
      "Predicted categories:\n",
      "- SearchOnewayFlight: 0.9683\n",
      "- NONE: 0.0227\n",
      "- ReserveOnewayFlight: 0.0036\n",
      "\n",
      "Text: Book me a one-way flight now.\n",
      "Predicted categories:\n",
      "- ReserveOnewayFlight: 0.9932\n",
      "- SearchOnewayFlight: 0.2846\n",
      "- NONE: 0.0097\n",
      "\n",
      "Text: Good morning. Can you help me?\n",
      "Predicted categories:\n",
      "- NONE: 0.3996\n",
      "- SearchOnewayFlight: 0.3801\n",
      "- ReserveOnewayFlight: 0.1738\n",
      "\n",
      "Text: I'm looking for a flights next Wednesday for Premium Economy.\n",
      "Predicted categories:\n",
      "- SearchOnewayFlight: 0.7190\n",
      "- ReserveOnewayFlight: 0.0823\n",
      "- NONE: 0.0075\n",
      "\n",
      "Text: I want Delta Airlines. I'm departing from Sydney, Australia on the 11th of this month.\n",
      "Predicted categories:\n",
      "- SearchOnewayFlight: 0.4374\n",
      "- NONE: 0.3385\n",
      "- ReserveOnewayFlight: 0.0722\n",
      "\n",
      "Text: Thanks for your help.\n",
      "Predicted categories:\n",
      "- NONE: 0.9819\n",
      "- ReserveOnewayFlight: 0.0242\n",
      "- SearchOnewayFlight: 0.0128\n"
     ]
    }
   ],
   "execution_count": 40
  },
  {
   "metadata": {
    "ExecuteTime": {
     "end_time": "2025-04-26T23:43:22.081946Z",
     "start_time": "2025-04-26T23:43:22.080491Z"
    }
   },
   "cell_type": "code",
   "source": "",
   "id": "40f38595ef5d3e3d",
   "outputs": [],
   "execution_count": null
  }
 ],
 "metadata": {
  "kernelspec": {
   "display_name": "Python 3",
   "language": "python",
   "name": "python3"
  },
  "language_info": {
   "codemirror_mode": {
    "name": "ipython",
    "version": 2
   },
   "file_extension": ".py",
   "mimetype": "text/x-python",
   "name": "python",
   "nbconvert_exporter": "python",
   "pygments_lexer": "ipython2",
   "version": "2.7.6"
  }
 },
 "nbformat": 4,
 "nbformat_minor": 5
}
