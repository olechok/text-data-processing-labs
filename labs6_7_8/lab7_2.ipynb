{
 "cells": [
  {
   "metadata": {},
   "cell_type": "markdown",
   "source": "Apply syntactic dependencies to determine intent.",
   "id": "85736bad0364fb64"
  },
  {
   "metadata": {
    "ExecuteTime": {
     "end_time": "2025-04-29T12:52:42.099036Z",
     "start_time": "2025-04-29T12:52:42.096826Z"
    }
   },
   "cell_type": "code",
   "outputs": [],
   "execution_count": 135,
   "source": [
    "import spacy\n",
    "from spacy import displacy"
   ],
   "id": "dab6062576f393a6"
  },
  {
   "metadata": {
    "ExecuteTime": {
     "end_time": "2025-04-29T12:49:28.607768Z",
     "start_time": "2025-04-29T12:49:28.119993Z"
    }
   },
   "cell_type": "code",
   "source": "nlp = spacy.load(\"en_core_web_sm\")",
   "id": "163613c6c9c3422",
   "outputs": [],
   "execution_count": 131
  },
  {
   "metadata": {
    "ExecuteTime": {
     "end_time": "2025-04-29T12:49:29.117002Z",
     "start_time": "2025-04-29T12:49:29.113844Z"
    }
   },
   "cell_type": "code",
   "source": [
    "test_texts = [\n",
    "    \"I want to travel soon, can you help me book a one way ticket to SD\",\n",
    "    \"I want to travel. Can you help me get a one way ticket? I'm leaving from CDMX.\",\n",
    "    \"Hello! I need help purchasing a one-way ticket. I'd like it to be with Delta Airlines in economy, please.\",\n",
    "    \"I need to book two tickets. My plans might change, so I need refundable tickets only. My departure location is Vancouver, BC. We'll be departing this Sunday, on our way to Phoenix, USA.\",\n",
    "    \"I want to travel soon. Please find me oneway flight tickets.\",\n",
    "    \"Yes that's correct. When does the departing flight take off?\",\n",
    "    \"Thank you.\"\n",
    "]"
   ],
   "id": "9b1e996d38ceaf13",
   "outputs": [],
   "execution_count": 132
  },
  {
   "metadata": {
    "ExecuteTime": {
     "end_time": "2025-04-29T12:46:53.365466Z",
     "start_time": "2025-04-29T12:46:53.301575Z"
    }
   },
   "cell_type": "code",
   "source": [
    "for text in test_texts:\n",
    "    print(\"Text: \" + text)\n",
    "    doc = nlp(text)\n",
    "    for token in doc:\n",
    "        if token.dep_ == \"dobj\":\n",
    "            print(\"Intent: \" + token.head.text + token.text.capitalize())\n",
    "    print(\"-\" * 40)"
   ],
   "id": "1250c63e8f4be442",
   "outputs": [
    {
     "name": "stdout",
     "output_type": "stream",
     "text": [
      "Text: I want to travel soon, can you help me book a one way ticket to SD\n",
      "Intent: helpMe\n",
      "Intent: bookTicket\n",
      "----------------------------------------\n",
      "Text: I want to travel. Can you help me get a one way ticket? I'm leaving from CDMX.\n",
      "Intent: getTicket\n",
      "----------------------------------------\n",
      "Text: Hello! I need help purchasing a one-way ticket. I'd like it to be with Delta Airlines in economy, please.\n",
      "Intent: needHelp\n",
      "Intent: purchasingTicket\n",
      "----------------------------------------\n",
      "Text: I need to book two tickets. My plans might change, so I need refundable tickets only. My departure location is Vancouver, BC. We'll be departing this Sunday, on our way to Phoenix, USA.\n",
      "Intent: bookTickets\n",
      "Intent: needTickets\n",
      "----------------------------------------\n",
      "Text: I want to travel soon. Please find me oneway flight tickets.\n",
      "Intent: findTickets\n",
      "----------------------------------------\n",
      "Text: Yes that's correct. When does the departing flight take off?\n",
      "----------------------------------------\n",
      "Text: Thank you.\n",
      "Intent: ThankYou\n",
      "----------------------------------------\n"
     ]
    }
   ],
   "execution_count": 128
  },
  {
   "metadata": {
    "ExecuteTime": {
     "end_time": "2025-04-29T13:41:48.086269Z",
     "start_time": "2025-04-29T13:41:47.646318Z"
    }
   },
   "cell_type": "code",
   "source": [
    "nlp = spacy.load(\"en_core_web_sm\")\n",
    "doc = nlp(\"Please find me oneway flight tickets\")\n",
    "displacy.render(doc, style='dep', jupyter=False)"
   ],
   "id": "e7e6de966a767336",
   "outputs": [
    {
     "data": {
      "text/plain": [
       "'<svg xmlns=\"http://www.w3.org/2000/svg\" xmlns:xlink=\"http://www.w3.org/1999/xlink\" xml:lang=\"en\" id=\"68a03df225dc474bb400d416e8f5a306-0\" class=\"displacy\" width=\"1100\" height=\"399.5\" direction=\"ltr\" style=\"max-width: none; height: 399.5px; color: #000000; background: #ffffff; font-family: Arial; direction: ltr\">\\n<text class=\"displacy-token\" fill=\"currentColor\" text-anchor=\"middle\" y=\"309.5\">\\n    <tspan class=\"displacy-word\" fill=\"currentColor\" x=\"50\">Please</tspan>\\n    <tspan class=\"displacy-tag\" dy=\"2em\" fill=\"currentColor\" x=\"50\">INTJ</tspan>\\n</text>\\n\\n<text class=\"displacy-token\" fill=\"currentColor\" text-anchor=\"middle\" y=\"309.5\">\\n    <tspan class=\"displacy-word\" fill=\"currentColor\" x=\"225\">find</tspan>\\n    <tspan class=\"displacy-tag\" dy=\"2em\" fill=\"currentColor\" x=\"225\">VERB</tspan>\\n</text>\\n\\n<text class=\"displacy-token\" fill=\"currentColor\" text-anchor=\"middle\" y=\"309.5\">\\n    <tspan class=\"displacy-word\" fill=\"currentColor\" x=\"400\">me</tspan>\\n    <tspan class=\"displacy-tag\" dy=\"2em\" fill=\"currentColor\" x=\"400\">PRON</tspan>\\n</text>\\n\\n<text class=\"displacy-token\" fill=\"currentColor\" text-anchor=\"middle\" y=\"309.5\">\\n    <tspan class=\"displacy-word\" fill=\"currentColor\" x=\"575\">oneway</tspan>\\n    <tspan class=\"displacy-tag\" dy=\"2em\" fill=\"currentColor\" x=\"575\">ADJ</tspan>\\n</text>\\n\\n<text class=\"displacy-token\" fill=\"currentColor\" text-anchor=\"middle\" y=\"309.5\">\\n    <tspan class=\"displacy-word\" fill=\"currentColor\" x=\"750\">flight</tspan>\\n    <tspan class=\"displacy-tag\" dy=\"2em\" fill=\"currentColor\" x=\"750\">NOUN</tspan>\\n</text>\\n\\n<text class=\"displacy-token\" fill=\"currentColor\" text-anchor=\"middle\" y=\"309.5\">\\n    <tspan class=\"displacy-word\" fill=\"currentColor\" x=\"925\">tickets</tspan>\\n    <tspan class=\"displacy-tag\" dy=\"2em\" fill=\"currentColor\" x=\"925\">NOUN</tspan>\\n</text>\\n\\n<g class=\"displacy-arrow\">\\n    <path class=\"displacy-arc\" id=\"arrow-68a03df225dc474bb400d416e8f5a306-0-0\" stroke-width=\"2px\" d=\"M70,264.5 C70,177.0 215.0,177.0 215.0,264.5\" fill=\"none\" stroke=\"currentColor\"/>\\n    <text dy=\"1.25em\" style=\"font-size: 0.8em; letter-spacing: 1px\">\\n        <textPath xlink:href=\"#arrow-68a03df225dc474bb400d416e8f5a306-0-0\" class=\"displacy-label\" startOffset=\"50%\" side=\"left\" fill=\"currentColor\" text-anchor=\"middle\">intj</textPath>\\n    </text>\\n    <path class=\"displacy-arrowhead\" d=\"M70,266.5 L62,254.5 78,254.5\" fill=\"currentColor\"/>\\n</g>\\n\\n<g class=\"displacy-arrow\">\\n    <path class=\"displacy-arc\" id=\"arrow-68a03df225dc474bb400d416e8f5a306-0-1\" stroke-width=\"2px\" d=\"M245,264.5 C245,177.0 390.0,177.0 390.0,264.5\" fill=\"none\" stroke=\"currentColor\"/>\\n    <text dy=\"1.25em\" style=\"font-size: 0.8em; letter-spacing: 1px\">\\n        <textPath xlink:href=\"#arrow-68a03df225dc474bb400d416e8f5a306-0-1\" class=\"displacy-label\" startOffset=\"50%\" side=\"left\" fill=\"currentColor\" text-anchor=\"middle\">dative</textPath>\\n    </text>\\n    <path class=\"displacy-arrowhead\" d=\"M390.0,266.5 L398.0,254.5 382.0,254.5\" fill=\"currentColor\"/>\\n</g>\\n\\n<g class=\"displacy-arrow\">\\n    <path class=\"displacy-arc\" id=\"arrow-68a03df225dc474bb400d416e8f5a306-0-2\" stroke-width=\"2px\" d=\"M595,264.5 C595,89.5 920.0,89.5 920.0,264.5\" fill=\"none\" stroke=\"currentColor\"/>\\n    <text dy=\"1.25em\" style=\"font-size: 0.8em; letter-spacing: 1px\">\\n        <textPath xlink:href=\"#arrow-68a03df225dc474bb400d416e8f5a306-0-2\" class=\"displacy-label\" startOffset=\"50%\" side=\"left\" fill=\"currentColor\" text-anchor=\"middle\">amod</textPath>\\n    </text>\\n    <path class=\"displacy-arrowhead\" d=\"M595,266.5 L587,254.5 603,254.5\" fill=\"currentColor\"/>\\n</g>\\n\\n<g class=\"displacy-arrow\">\\n    <path class=\"displacy-arc\" id=\"arrow-68a03df225dc474bb400d416e8f5a306-0-3\" stroke-width=\"2px\" d=\"M770,264.5 C770,177.0 915.0,177.0 915.0,264.5\" fill=\"none\" stroke=\"currentColor\"/>\\n    <text dy=\"1.25em\" style=\"font-size: 0.8em; letter-spacing: 1px\">\\n        <textPath xlink:href=\"#arrow-68a03df225dc474bb400d416e8f5a306-0-3\" class=\"displacy-label\" startOffset=\"50%\" side=\"left\" fill=\"currentColor\" text-anchor=\"middle\">compound</textPath>\\n    </text>\\n    <path class=\"displacy-arrowhead\" d=\"M770,266.5 L762,254.5 778,254.5\" fill=\"currentColor\"/>\\n</g>\\n\\n<g class=\"displacy-arrow\">\\n    <path class=\"displacy-arc\" id=\"arrow-68a03df225dc474bb400d416e8f5a306-0-4\" stroke-width=\"2px\" d=\"M245,264.5 C245,2.0 925.0,2.0 925.0,264.5\" fill=\"none\" stroke=\"currentColor\"/>\\n    <text dy=\"1.25em\" style=\"font-size: 0.8em; letter-spacing: 1px\">\\n        <textPath xlink:href=\"#arrow-68a03df225dc474bb400d416e8f5a306-0-4\" class=\"displacy-label\" startOffset=\"50%\" side=\"left\" fill=\"currentColor\" text-anchor=\"middle\">dobj</textPath>\\n    </text>\\n    <path class=\"displacy-arrowhead\" d=\"M925.0,266.5 L933.0,254.5 917.0,254.5\" fill=\"currentColor\"/>\\n</g>\\n</svg>'"
      ]
     },
     "execution_count": 142,
     "metadata": {},
     "output_type": "execute_result"
    }
   ],
   "execution_count": 142
  }
 ],
 "metadata": {
  "kernelspec": {
   "display_name": "Python 3",
   "language": "python",
   "name": "python3"
  },
  "language_info": {
   "codemirror_mode": {
    "name": "ipython",
    "version": 2
   },
   "file_extension": ".py",
   "mimetype": "text/x-python",
   "name": "python",
   "nbconvert_exporter": "python",
   "pygments_lexer": "ipython2",
   "version": "2.7.6"
  }
 },
 "nbformat": 4,
 "nbformat_minor": 5
}
