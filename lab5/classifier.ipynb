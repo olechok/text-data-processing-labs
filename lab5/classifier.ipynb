{
 "cells": [
  {
   "cell_type": "code",
   "id": "initial_id",
   "metadata": {
    "collapsed": true,
    "ExecuteTime": {
     "end_time": "2025-04-17T06:29:35.504729Z",
     "start_time": "2025-04-17T06:29:34.607298Z"
    }
   },
   "source": [
    "import spacy\n",
    "import pandas as pd\n",
    "from textblob import TextBlob\n",
    "from sklearn.model_selection import train_test_split\n",
    "from sklearn.feature_extraction.text import TfidfVectorizer\n",
    "from sklearn.metrics import accuracy_score, confusion_matrix\n",
    "import matplotlib.pyplot as plt\n",
    "import seaborn as sns\n",
    "from sklearn.naive_bayes import MultinomialNB\n",
    "import random"
   ],
   "outputs": [],
   "execution_count": 1
  },
  {
   "metadata": {},
   "cell_type": "markdown",
   "source": "### Task 1",
   "id": "2486344969f9bfc0"
  },
  {
   "metadata": {
    "ExecuteTime": {
     "end_time": "2025-04-17T06:29:35.569530Z",
     "start_time": "2025-04-17T06:29:35.508712Z"
    }
   },
   "cell_type": "code",
   "source": [
    "df = pd.read_csv(\"twitter2.csv\")\n",
    "clean_text = df[\"clean_text\"]\n",
    "category = df[\"category\"]"
   ],
   "id": "6f1c267d6ad35580",
   "outputs": [],
   "execution_count": 2
  },
  {
   "metadata": {
    "ExecuteTime": {
     "end_time": "2025-04-17T06:29:35.988294Z",
     "start_time": "2025-04-17T06:29:35.669704Z"
    }
   },
   "cell_type": "code",
   "source": "nlp = spacy.load(\"en_core_web_sm\")",
   "id": "a772e8e61fc3e4d8",
   "outputs": [],
   "execution_count": 3
  },
  {
   "metadata": {
    "ExecuteTime": {
     "end_time": "2025-04-17T06:31:29.094967Z",
     "start_time": "2025-04-17T06:29:35.996328Z"
    }
   },
   "cell_type": "code",
   "source": "docs = list(nlp.pipe(df[\"clean_text\"]))",
   "id": "5f398dbd26c8c2d2",
   "outputs": [],
   "execution_count": 4
  },
  {
   "metadata": {
    "ExecuteTime": {
     "end_time": "2025-04-17T06:31:29.108089Z",
     "start_time": "2025-04-17T06:31:29.106267Z"
    }
   },
   "cell_type": "code",
   "source": [
    "# for doc in docs:\n",
    "#     print([token.text for token in doc])"
   ],
   "id": "e9f2208dd72bb656",
   "outputs": [],
   "execution_count": 5
  },
  {
   "metadata": {
    "ExecuteTime": {
     "end_time": "2025-04-17T06:31:29.142859Z",
     "start_time": "2025-04-17T06:31:29.140443Z"
    }
   },
   "cell_type": "code",
   "source": [
    "def preprocess_text(doc):\n",
    "    processed_tokens = []\n",
    "    for token in doc:\n",
    "        if not token.is_stop and not token.is_punct and not token.is_space:\n",
    "            processed_tokens.append(token.lemma_)\n",
    "    return \" \".join(processed_tokens)"
   ],
   "id": "449a740f647a1ccf",
   "outputs": [],
   "execution_count": 6
  },
  {
   "metadata": {},
   "cell_type": "markdown",
   "source": "### Task 2\n",
   "id": "88ea202967964979"
  },
  {
   "metadata": {
    "ExecuteTime": {
     "end_time": "2025-04-17T06:31:29.156199Z",
     "start_time": "2025-04-17T06:31:29.152528Z"
    }
   },
   "cell_type": "code",
   "source": [
    "def plot_confusion_matrix(conf_matrix, title=\"Confusion Matrix\", cmap=\"Yellows\"):\n",
    "    class_labels = ['Negative', 'Neutral', 'Positive']\n",
    "    plt.figure(figsize=(8, 6))\n",
    "    sns.heatmap(conf_matrix, annot=True, fmt=\"d\", cmap=cmap,\n",
    "                xticklabels=class_labels,\n",
    "                yticklabels=class_labels)\n",
    "    plt.title(title)\n",
    "    plt.xlabel(\"Predicted Labels\")\n",
    "    plt.ylabel(\"Actual Labels\")\n",
    "    plt.show()"
   ],
   "id": "9614e2c3d50b0b3b",
   "outputs": [],
   "execution_count": 7
  },
  {
   "metadata": {
    "ExecuteTime": {
     "end_time": "2025-04-17T06:31:29.428585Z",
     "start_time": "2025-04-17T06:31:29.190869Z"
    }
   },
   "cell_type": "code",
   "source": "df[\"preprocessed_text_spacy\"] = [preprocess_text(doc) for doc in docs]",
   "id": "84ef5e9fb9d537b",
   "outputs": [],
   "execution_count": 8
  },
  {
   "metadata": {
    "ExecuteTime": {
     "end_time": "2025-04-17T06:31:29.437468Z",
     "start_time": "2025-04-17T06:31:29.435255Z"
    }
   },
   "cell_type": "code",
   "source": [
    "text = df[\"preprocessed_text_spacy\"]\n",
    "sentiments = df[\"category\"]"
   ],
   "id": "6af444222d2c1970",
   "outputs": [],
   "execution_count": 9
  },
  {
   "metadata": {
    "ExecuteTime": {
     "end_time": "2025-04-17T06:31:29.450690Z",
     "start_time": "2025-04-17T06:31:29.444406Z"
    }
   },
   "cell_type": "code",
   "source": "text_train, text_test, sentiment_train, sentiment_test = train_test_split(text, sentiments, test_size=0.2, random_state=42)",
   "id": "3e044842a1eaf094",
   "outputs": [],
   "execution_count": 10
  },
  {
   "metadata": {
    "ExecuteTime": {
     "end_time": "2025-04-17T07:10:24.724907Z",
     "start_time": "2025-04-17T07:10:24.456104Z"
    }
   },
   "cell_type": "code",
   "source": [
    "tfidf_vectorizer = TfidfVectorizer(min_df=3, max_df=0.9)\n",
    "text_train_tfidf = tfidf_vectorizer.fit_transform(text_train)\n",
    "text_test_tfidf = tfidf_vectorizer.transform(text_test)"
   ],
   "id": "d765caee1c702f72",
   "outputs": [],
   "execution_count": 49
  },
  {
   "metadata": {
    "ExecuteTime": {
     "end_time": "2025-04-17T07:10:25.865230Z",
     "start_time": "2025-04-17T07:10:25.852961Z"
    }
   },
   "cell_type": "code",
   "source": [
    "mnb = MultinomialNB()\n",
    "mnb.fit(text_train_tfidf, sentiment_train)\n",
    "sentiment_pred_mnb = mnb.predict(text_test_tfidf)"
   ],
   "id": "5a0fc2327654f35f",
   "outputs": [],
   "execution_count": 50
  },
  {
   "metadata": {
    "ExecuteTime": {
     "end_time": "2025-04-17T07:10:26.738760Z",
     "start_time": "2025-04-17T07:10:26.732227Z"
    }
   },
   "cell_type": "code",
   "source": [
    "mnb_bow_test_score = mnb.score(text_test_tfidf, sentiment_test)\n",
    "print(f\"Accuracy of the model (MNB): {mnb_bow_test_score:.4f}\")\n",
    "conf_matrix_mnb = confusion_matrix(sentiment_test, sentiment_pred_mnb)"
   ],
   "id": "b1276fcf1d899f0",
   "outputs": [
    {
     "name": "stdout",
     "output_type": "stream",
     "text": [
      "Accuracy of the model (MNB): 0.6220\n"
     ]
    }
   ],
   "execution_count": 51
  },
  {
   "metadata": {
    "ExecuteTime": {
     "end_time": "2025-04-17T07:10:28.343043Z",
     "start_time": "2025-04-17T07:10:28.258876Z"
    }
   },
   "cell_type": "code",
   "source": [
    "plot_confusion_matrix(conf_matrix_mnb, \n",
    "                      \"Confusion Matrix (MNB)\", \n",
    "                      \"Blues\")"
   ],
   "id": "97b1af7786b3a56e",
   "outputs": [
    {
     "data": {
      "text/plain": [
       "<Figure size 800x600 with 2 Axes>"
      ],
      "image/png": "[encoded data removed]"
     },
     "metadata": {},
     "output_type": "display_data"
    }
   ],
   "execution_count": 52
  },
  {
   "metadata": {},
   "cell_type": "markdown",
   "source": "### Task 3",
   "id": "d7eb7517991b739c"
  },
  {
   "metadata": {
    "ExecuteTime": {
     "end_time": "2025-04-17T06:31:29.905926Z",
     "start_time": "2025-04-17T06:31:29.902921Z"
    }
   },
   "cell_type": "code",
   "source": [
    "def get_sentiment(int):\n",
    "    if int > 0.005:\n",
    "        return 'Positive'\n",
    "    elif int < -0.005:\n",
    "        return 'Negative'\n",
    "    else:\n",
    "        return 'Neutral'"
   ],
   "id": "668c75f7d49ba41a",
   "outputs": [],
   "execution_count": 15
  },
  {
   "metadata": {
    "ExecuteTime": {
     "end_time": "2025-04-17T06:31:30.468586Z",
     "start_time": "2025-04-17T06:31:29.918955Z"
    }
   },
   "cell_type": "code",
   "source": [
    "actual_str_sentiments = []\n",
    "predicted_str_sentiments = []\n",
    "for review, actual_sentiment in zip(text_test, sentiment_test):\n",
    "    analysis = TextBlob(review)\n",
    "    predicted_sentiment = get_sentiment(analysis.sentiment.polarity)\n",
    "    # print('REVIEW:', review)\n",
    "    # print('Actual Sentiment:', actual_sentiment)\n",
    "    # print('Predicted Sentiment:', predicted_sentiment)\n",
    "    actual_str_sentiments.append(get_sentiment(actual_sentiment))\n",
    "    predicted_str_sentiments.append(predicted_sentiment)"
   ],
   "id": "38350950b8bd484",
   "outputs": [],
   "execution_count": 16
  },
  {
   "metadata": {
    "ExecuteTime": {
     "end_time": "2025-04-17T06:31:30.497311Z",
     "start_time": "2025-04-17T06:31:30.477563Z"
    }
   },
   "cell_type": "code",
   "source": [
    "# Розрахунок точності моделі TextBlob\n",
    "accuracy_tb = accuracy_score(actual_str_sentiments, predicted_str_sentiments)\n",
    "print(f\"TextBlob accuracy: {accuracy_tb:.4f}\")\n",
    "conf_matrix_tb = confusion_matrix(actual_str_sentiments, predicted_str_sentiments)"
   ],
   "id": "462491927e17e3e8",
   "outputs": [
    {
     "name": "stdout",
     "output_type": "stream",
     "text": [
      "TextBlob accuracy: 0.8244\n"
     ]
    }
   ],
   "execution_count": 17
  },
  {
   "metadata": {
    "ExecuteTime": {
     "end_time": "2025-04-17T06:31:30.569869Z",
     "start_time": "2025-04-17T06:31:30.507097Z"
    }
   },
   "cell_type": "code",
   "source": [
    "plot_confusion_matrix(conf_matrix_tb, \n",
    "                      \"Confusion Matrix (TextBlob)\", \n",
    "                      \"Reds\")"
   ],
   "id": "2baca3f3b16339d2",
   "outputs": [
    {
     "data": {
      "text/plain": [
       "<Figure size 800x600 with 2 Axes>"
      ],
      "image/png": "[encoded data removed]"
     },
     "metadata": {},
     "output_type": "display_data"
    }
   ],
   "execution_count": 18
  },
  {
   "metadata": {
    "ExecuteTime": {
     "end_time": "2025-04-17T06:31:30.586950Z",
     "start_time": "2025-04-17T06:31:30.581473Z"
    }
   },
   "cell_type": "code",
   "source": [
    "num_random_samples = 3\n",
    "random_indices = random.sample(range(len(text_test)), num_random_samples)\n",
    "\n",
    "for i in random_indices:\n",
    "    review = text_test.iloc[i]\n",
    "    actual_sentiment = sentiment_test.iloc[i]\n",
    "    predicted_polarity = TextBlob(review).sentiment.polarity\n",
    "    predicted_sentiment_tb_single = get_sentiment(predicted_polarity)\n",
    "    print('Review:', review)\n",
    "    print('Actual sentiment:', actual_sentiment)\n",
    "    print('Predicted polarity TextBlob:', predicted_polarity)\n",
    "    print('Predicted sentiment TextBlob:', predicted_sentiment_tb_single)\n",
    "    print('Predicted sentiment (MNB):', sentiment_pred_mnb[i])\n",
    "    print('-' * 40)"
   ],
   "id": "8cbf10ad996d7627",
   "outputs": [
    {
     "name": "stdout",
     "output_type": "stream",
     "text": [
      "Review: modi go consider\n",
      "Actual sentiment: 0.0\n",
      "Predicted polarity TextBlob: 0.0\n",
      "Predicted sentiment TextBlob: Neutral\n",
      "Predicted sentiment (MNB): 1.0\n",
      "----------------------------------------\n",
      "Review: lose mind stand modi wave time\n",
      "Actual sentiment: 0.0\n",
      "Predicted polarity TextBlob: 0.0\n",
      "Predicted sentiment TextBlob: Neutral\n",
      "Predicted sentiment (MNB): 1.0\n",
      "----------------------------------------\n",
      "Review: modi saree big hit election season\n",
      "Actual sentiment: 0.0\n",
      "Predicted polarity TextBlob: 0.0\n",
      "Predicted sentiment TextBlob: Neutral\n",
      "Predicted sentiment (MNB): 1.0\n",
      "----------------------------------------\n"
     ]
    }
   ],
   "execution_count": 19
  }
 ],
 "metadata": {
  "kernelspec": {
   "display_name": "Python 3",
   "language": "python",
   "name": "python3"
  },
  "language_info": {
   "codemirror_mode": {
    "name": "ipython",
    "version": 2
   },
   "file_extension": ".py",
   "mimetype": "text/x-python",
   "name": "python",
   "nbconvert_exporter": "python",
   "pygments_lexer": "ipython2",
   "version": "2.7.6"
  }
 },
 "nbformat": 4,
 "nbformat_minor": 5
}
